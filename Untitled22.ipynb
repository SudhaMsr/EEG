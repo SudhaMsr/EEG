{
 "cells": [
  {
   "cell_type": "code",
   "execution_count": null,
   "id": "0e852183",
   "metadata": {},
   "outputs": [],
   "source": [
    "!pip install mne\n",
    "!pip install scikit-learn\n",
    "!pip install mne numpy scipy sklearn matplotlib pyedflib\n",
    "!pip install -U mne"
   ]
  },
  {
   "cell_type": "code",
   "execution_count": 1,
   "id": "5019c102",
   "metadata": {},
   "outputs": [
    {
     "name": "stdout",
     "output_type": "stream",
     "text": [
      "Extracting EDF parameters from C:\\Users\\bu23957\\Downloads\\SC4022E0-PSG.edf...\n",
      "EDF file detected\n",
      "Setting channel info structure...\n",
      "Creating raw.info structure...\n",
      "Reading 0 ... 8267999  =      0.000 ... 82679.990 secs...\n",
      "Filtering raw data in 1 contiguous segment\n",
      "Setting up band-pass filter from 0.5 - 30 Hz\n",
      "\n",
      "FIR filter parameters\n",
      "---------------------\n",
      "Designing a one-pass, zero-phase, non-causal bandpass filter:\n",
      "- Windowed time-domain design (firwin) method\n",
      "- Hamming window with 0.0194 passband ripple and 53 dB stopband attenuation\n",
      "- Lower passband edge: 0.50\n",
      "- Lower transition bandwidth: 0.50 Hz (-6 dB cutoff frequency: 0.25 Hz)\n",
      "- Upper passband edge: 30.00 Hz\n",
      "- Upper transition bandwidth: 7.50 Hz (-6 dB cutoff frequency: 33.75 Hz)\n",
      "- Filter length: 661 samples (6.610 s)\n",
      "\n"
     ]
    },
    {
     "name": "stderr",
     "output_type": "stream",
     "text": [
      "C:\\Users\\bu23957\\AppData\\Local\\Temp\\ipykernel_11360\\3029125010.py:16: RuntimeWarning: Limited 1 annotation(s) that were expanding outside the data range.\n",
      "  raw.set_annotations(annotations)\n"
     ]
    },
    {
     "name": "stdout",
     "output_type": "stream",
     "text": [
      "Used Annotations descriptions: ['Movement time', 'Sleep stage 1', 'Sleep stage 2', 'Sleep stage 3', 'Sleep stage 4', 'Sleep stage ?', 'Sleep stage R', 'Sleep stage W']\n",
      "Not setting metadata\n",
      "179 matching events found\n",
      "No baseline correction applied\n",
      "0 projection items activated\n",
      "Using data from preloaded Raw for 179 events and 3001 original time points ...\n",
      "1 bad epochs dropped\n"
     ]
    },
    {
     "name": "stderr",
     "output_type": "stream",
     "text": [
      "C:\\Users\\bu23957\\AppData\\Local\\Temp\\ipykernel_11360\\3029125010.py:26: FutureWarning: The current default of copy=False will change to copy=True in 1.7. Set the value of copy explicitly to avoid this warning\n",
      "  data = epochs.get_data()  # Shape: (n_epochs, n_channels, n_times)\n"
     ]
    },
    {
     "ename": "AttributeError",
     "evalue": "'numpy.ndarray' object has no attribute 'description'",
     "output_type": "error",
     "traceback": [
      "\u001b[1;31m---------------------------------------------------------------------------\u001b[0m",
      "\u001b[1;31mAttributeError\u001b[0m                            Traceback (most recent call last)",
      "Cell \u001b[1;32mIn[1], line 39\u001b[0m\n\u001b[0;32m     36\u001b[0m \u001b[38;5;66;03m# Label extraction from annotations\u001b[39;00m\n\u001b[0;32m     37\u001b[0m stages_mapping \u001b[38;5;241m=\u001b[39m {\u001b[38;5;124m'\u001b[39m\u001b[38;5;124mSleep stage W\u001b[39m\u001b[38;5;124m'\u001b[39m: \u001b[38;5;241m0\u001b[39m, \u001b[38;5;124m'\u001b[39m\u001b[38;5;124mSleep stage 1\u001b[39m\u001b[38;5;124m'\u001b[39m: \u001b[38;5;241m1\u001b[39m, \u001b[38;5;124m'\u001b[39m\u001b[38;5;124mSleep stage 2\u001b[39m\u001b[38;5;124m'\u001b[39m: \u001b[38;5;241m2\u001b[39m,\n\u001b[0;32m     38\u001b[0m                   \u001b[38;5;124m'\u001b[39m\u001b[38;5;124mSleep stage 3\u001b[39m\u001b[38;5;124m'\u001b[39m: \u001b[38;5;241m3\u001b[39m, \u001b[38;5;124m'\u001b[39m\u001b[38;5;124mSleep stage 4\u001b[39m\u001b[38;5;124m'\u001b[39m: \u001b[38;5;241m3\u001b[39m, \u001b[38;5;124m'\u001b[39m\u001b[38;5;124mSleep stage R\u001b[39m\u001b[38;5;124m'\u001b[39m: \u001b[38;5;241m4\u001b[39m}\n\u001b[1;32m---> 39\u001b[0m labels \u001b[38;5;241m=\u001b[39m np\u001b[38;5;241m.\u001b[39marray([stages_mapping[ann\u001b[38;5;241m.\u001b[39mdescription] \u001b[38;5;28;01mfor\u001b[39;00m ann \u001b[38;5;129;01min\u001b[39;00m epochs\u001b[38;5;241m.\u001b[39mevents])\n\u001b[0;32m     41\u001b[0m \u001b[38;5;66;03m# Data scaling\u001b[39;00m\n\u001b[0;32m     42\u001b[0m scaler \u001b[38;5;241m=\u001b[39m StandardScaler()\n",
      "Cell \u001b[1;32mIn[1], line 39\u001b[0m, in \u001b[0;36m<listcomp>\u001b[1;34m(.0)\u001b[0m\n\u001b[0;32m     36\u001b[0m \u001b[38;5;66;03m# Label extraction from annotations\u001b[39;00m\n\u001b[0;32m     37\u001b[0m stages_mapping \u001b[38;5;241m=\u001b[39m {\u001b[38;5;124m'\u001b[39m\u001b[38;5;124mSleep stage W\u001b[39m\u001b[38;5;124m'\u001b[39m: \u001b[38;5;241m0\u001b[39m, \u001b[38;5;124m'\u001b[39m\u001b[38;5;124mSleep stage 1\u001b[39m\u001b[38;5;124m'\u001b[39m: \u001b[38;5;241m1\u001b[39m, \u001b[38;5;124m'\u001b[39m\u001b[38;5;124mSleep stage 2\u001b[39m\u001b[38;5;124m'\u001b[39m: \u001b[38;5;241m2\u001b[39m,\n\u001b[0;32m     38\u001b[0m                   \u001b[38;5;124m'\u001b[39m\u001b[38;5;124mSleep stage 3\u001b[39m\u001b[38;5;124m'\u001b[39m: \u001b[38;5;241m3\u001b[39m, \u001b[38;5;124m'\u001b[39m\u001b[38;5;124mSleep stage 4\u001b[39m\u001b[38;5;124m'\u001b[39m: \u001b[38;5;241m3\u001b[39m, \u001b[38;5;124m'\u001b[39m\u001b[38;5;124mSleep stage R\u001b[39m\u001b[38;5;124m'\u001b[39m: \u001b[38;5;241m4\u001b[39m}\n\u001b[1;32m---> 39\u001b[0m labels \u001b[38;5;241m=\u001b[39m np\u001b[38;5;241m.\u001b[39marray([stages_mapping[ann\u001b[38;5;241m.\u001b[39mdescription] \u001b[38;5;28;01mfor\u001b[39;00m ann \u001b[38;5;129;01min\u001b[39;00m epochs\u001b[38;5;241m.\u001b[39mevents])\n\u001b[0;32m     41\u001b[0m \u001b[38;5;66;03m# Data scaling\u001b[39;00m\n\u001b[0;32m     42\u001b[0m scaler \u001b[38;5;241m=\u001b[39m StandardScaler()\n",
      "\u001b[1;31mAttributeError\u001b[0m: 'numpy.ndarray' object has no attribute 'description'"
     ]
    }
   ],
   "source": [
    "import mne\n",
    "import numpy as np\n",
    "from scipy.signal import welch\n",
    "from sklearn.model_selection import train_test_split\n",
    "from sklearn.ensemble import RandomForestClassifier\n",
    "from sklearn.metrics import classification_report\n",
    "from sklearn.preprocessing import StandardScaler\n",
    "\n",
    "# Path to your EEG data and hypnogram file\n",
    "eeg_file_path = 'SC4022E0-PSG.edf'\n",
    "hypnogram_file_path = 'SC4022EJ-Hypnogram.edf'\n",
    "\n",
    "# Load EEG data\n",
    "raw = mne.io.read_raw_edf(eeg_file_path, preload=True)\n",
    "annotations = mne.read_annotations(hypnogram_file_path)\n",
    "raw.set_annotations(annotations)\n",
    "\n",
    "# Apply a band-pass filter\n",
    "raw.filter(0.5, 30, fir_design='firwin')\n",
    "\n",
    "# Create epochs\n",
    "events, event_id = mne.events_from_annotations(raw)\n",
    "epochs = mne.Epochs(raw, events, event_id=event_id, tmin=0., tmax=30., baseline=None, preload=True)\n",
    "\n",
    "# Convert epochs to data array\n",
    "data = epochs.get_data()  # Shape: (n_epochs, n_channels, n_times)\n",
    "\n",
    "# Feature extraction: Power Spectral Density (PSD)\n",
    "n_fft = int(raw.info['sfreq'])\n",
    "psds = []\n",
    "for epoch in data:\n",
    "    psd = welch(epoch, fs=raw.info['sfreq'], nperseg=n_fft)\n",
    "    psds.append(psd[1].mean(axis=1))  # Averaging across frequencies\n",
    "psds = np.array(psds)\n",
    "\n",
    "# Label extraction from annotations\n",
    "stages_mapping = {'Sleep stage W': 0, 'Sleep stage 1': 1, 'Sleep stage 2': 2,\n",
    "                  'Sleep stage 3': 3, 'Sleep stage 4': 3, 'Sleep stage R': 4}\n",
    "labels = np.array([stages_mapping[ann.description] for ann in epochs.events])\n",
    "\n",
    "# Data scaling\n",
    "scaler = StandardScaler()\n",
    "psds_scaled = scaler.fit_transform(psds)\n",
    "\n",
    "# Splitting dataset into training and testing set\n",
    "X_train, X_test, y_train, y_test = train_test_split(psds_scaled, labels, test_size=0.25, random_state=42)\n",
    "\n",
    "# Training a RandomForest classifier\n",
    "clf = RandomForestClassifier(n_estimators=100, random_state=42)\n",
    "clf.fit(X_train, y_train)\n",
    "\n",
    "# Predictions\n",
    "y_pred = clf.predict(X_test)\n",
    "\n",
    "# Evaluation\n",
    "print(classification_report(y_test, y_pred))"
   ]
  },
  {
   "cell_type": "code",
   "execution_count": null,
   "id": "667bdfdb",
   "metadata": {},
   "outputs": [],
   "source": []
  },
  {
   "cell_type": "code",
   "execution_count": null,
   "id": "e44a9499",
   "metadata": {},
   "outputs": [],
   "source": []
  },
  {
   "cell_type": "code",
   "execution_count": null,
   "id": "db8ef5ad",
   "metadata": {},
   "outputs": [],
   "source": []
  }
 ],
 "metadata": {
  "kernelspec": {
   "display_name": "Python 3 (ipykernel)",
   "language": "python",
   "name": "python3"
  },
  "language_info": {
   "codemirror_mode": {
    "name": "ipython",
    "version": 3
   },
   "file_extension": ".py",
   "mimetype": "text/x-python",
   "name": "python",
   "nbconvert_exporter": "python",
   "pygments_lexer": "ipython3",
   "version": "3.11.5"
  }
 },
 "nbformat": 4,
 "nbformat_minor": 5
}
