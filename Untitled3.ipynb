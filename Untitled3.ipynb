{
 "cells": [
  {
   "cell_type": "code",
   "execution_count": 1,
   "id": "8a4cce4a",
   "metadata": {},
   "outputs": [],
   "source": [
    "import mne"
   ]
  },
  {
   "cell_type": "code",
   "execution_count": 2,
   "id": "1c4c02f2",
   "metadata": {},
   "outputs": [
    {
     "name": "stdout",
     "output_type": "stream",
     "text": [
      "Requirement already satisfied: pyEDFlib in c:\\users\\bu23957\\appdata\\local\\anaconda3\\lib\\site-packages (0.1.37)\n",
      "Requirement already satisfied: numpy>=1.9.1 in c:\\users\\bu23957\\appdata\\local\\anaconda3\\lib\\site-packages (from pyEDFlib) (1.26.4)\n"
     ]
    }
   ],
   "source": [
    "!pip install pyEDFlib"
   ]
  },
  {
   "cell_type": "markdown",
   "id": "ef9bfcc8",
   "metadata": {},
   "source": [
    "###  Choose Data for Analysis and Data Preprocessing"
   ]
  },
  {
   "cell_type": "code",
   "execution_count": null,
   "id": "83c0f933",
   "metadata": {},
   "outputs": [],
   "source": []
  },
  {
   "cell_type": "code",
   "execution_count": 15,
   "id": "cf651b31",
   "metadata": {},
   "outputs": [],
   "source": [
    "import mne\n",
    "import warnings\n",
    "warnings.filterwarnings('ignore')\n",
    "\n",
    "# Function to read PSG and hypnogram files, with data loading into memory\n",
    "def read_data(psg_file, hyp_file):\n",
    "    # Read PSG file with preload=True to load data into memory\n",
    "    raw = mne.io.read_raw_edf(psg_file, preload=True)\n",
    "    \n",
    "    # Read hypnogram file\n",
    "    annotations = mne.read_annotations(hyp_file)\n",
    "    \n",
    "    # Set annotations to raw for later use in epoching\n",
    "    raw.set_annotations(annotations)\n",
    "    \n",
    "    return raw\n",
    "\n"
   ]
  },
  {
   "cell_type": "markdown",
   "id": "211d399d",
   "metadata": {},
   "source": [
    "### preprocessing"
   ]
  },
  {
   "cell_type": "code",
   "execution_count": null,
   "id": "eb4da9ef",
   "metadata": {},
   "outputs": [
    {
     "name": "stdout",
     "output_type": "stream",
     "text": [
      "Extracting EDF parameters from C:\\Users\\bu23957\\Downloads\\sleep-cassette\\SC4001E0-PSG.edf...\n",
      "EDF file detected\n",
      "Setting channel info structure...\n",
      "Creating raw.info structure...\n",
      "Reading 0 ... 7949999  =      0.000 ... 79499.990 secs...\n",
      "Filtering raw data in 1 contiguous segment\n",
      "Setting up band-pass filter from 0.5 - 40 Hz\n",
      "\n",
      "FIR filter parameters\n",
      "---------------------\n",
      "Designing a one-pass, zero-phase, non-causal bandpass filter:\n",
      "- Windowed time-domain design (firwin) method\n",
      "- Hamming window with 0.0194 passband ripple and 53 dB stopband attenuation\n",
      "- Lower passband edge: 0.50\n",
      "- Lower transition bandwidth: 0.50 Hz (-6 dB cutoff frequency: 0.25 Hz)\n",
      "- Upper passband edge: 40.00 Hz\n",
      "- Upper transition bandwidth: 10.00 Hz (-6 dB cutoff frequency: 45.00 Hz)\n",
      "- Filter length: 661 samples (6.610 s)\n",
      "\n"
     ]
    }
   ],
   "source": [
    "# Function for data preprocessing (filtering, resampling, and epoching)\n",
    "def preprocess_data(raw, epoch_length=30):\n",
    "    # Filter data between 0.5 and 40 Hz\n",
    "    raw.filter(0.5, 40, fir_design='firwin')\n",
    "    \n",
    "    # Resample the data to 100 Hz to reduce data size and computation time\n",
    "    raw.resample(100)\n",
    "    \n",
    "    # Create events from annotations in the raw data\n",
    "    # Mapping sleep stage annotations to integers for epoching\n",
    "    annotation_desc_2_event_id = {\n",
    "        'Sleep stage W': 1,\n",
    "        'Sleep stage 1': 2,\n",
    "        'Sleep stage 2': 3,\n",
    "        'Sleep stage 3': 4,\n",
    "        'Sleep stage 4': 4,  # Merge stage 3 and stage 4 for AASM classification\n",
    "        'Sleep stage R': 5\n",
    "    }\n",
    "    events, event_id = mne.events_from_annotations(raw, event_id=annotation_desc_2_event_id)\n",
    "    \n",
    "    # Pick the EEG channels for epoching\n",
    "    picks = mne.pick_types(raw.info, meg=False, eeg=True, eog=False, stim=False)\n",
    "    \n",
    "    # Epoch the data around event markers\n",
    "    epochs = mne.Epochs(raw, events, event_id=event_id, picks=picks, tmin=0, tmax=epoch_length - 1 / raw.info['sfreq'], \n",
    "                        baseline=None, preload=True)\n",
    "    \n",
    "    return epochs\n",
    "\n",
    "# File paths - replace these with your actual file paths\n",
    "psg_file = 'sleep-cassette/SC4001E0-PSG.edf'\n",
    "hyp_file = 'sleep-cassette/SC4001EC-Hypnogram.edf'\n",
    "\n",
    "# Read the PSG and hypnogram files\n",
    "raw = read_data(psg_file, hyp_file)\n",
    "\n",
    "# Preprocess the data (filter, resample, epoch)\n",
    "epochs = preprocess_data(raw)\n",
    "\n",
    "# Print summary information about the epochs\n",
    "print(epochs)\n"
   ]
  },
  {
   "cell_type": "code",
   "execution_count": null,
   "id": "c71ed8e9",
   "metadata": {},
   "outputs": [],
   "source": []
  },
  {
   "cell_type": "code",
   "execution_count": null,
   "id": "0c984014",
   "metadata": {},
   "outputs": [],
   "source": []
  },
  {
   "cell_type": "code",
   "execution_count": null,
   "id": "8962310f",
   "metadata": {},
   "outputs": [],
   "source": []
  },
  {
   "cell_type": "code",
   "execution_count": null,
   "id": "80b0be63",
   "metadata": {},
   "outputs": [],
   "source": []
  },
  {
   "cell_type": "code",
   "execution_count": null,
   "id": "f88ad31b",
   "metadata": {},
   "outputs": [],
   "source": []
  },
  {
   "cell_type": "code",
   "execution_count": null,
   "id": "aba244c6",
   "metadata": {},
   "outputs": [],
   "source": []
  }
 ],
 "metadata": {
  "kernelspec": {
   "display_name": "Python 3 (ipykernel)",
   "language": "python",
   "name": "python3"
  },
  "language_info": {
   "codemirror_mode": {
    "name": "ipython",
    "version": 3
   },
   "file_extension": ".py",
   "mimetype": "text/x-python",
   "name": "python",
   "nbconvert_exporter": "python",
   "pygments_lexer": "ipython3",
   "version": "3.11.5"
  }
 },
 "nbformat": 4,
 "nbformat_minor": 5
}
