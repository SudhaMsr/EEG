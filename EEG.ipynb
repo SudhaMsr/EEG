{
 "cells": [
  {
   "cell_type": "code",
   "execution_count": 1,
   "id": "d83a12f5",
   "metadata": {},
   "outputs": [],
   "source": [
    "import mne"
   ]
  },
  {
   "cell_type": "code",
   "execution_count": 38,
   "id": "e89f8b5a",
   "metadata": {},
   "outputs": [
    {
     "name": "stdout",
     "output_type": "stream",
     "text": [
      "Requirement already satisfied: numpy in c:\\users\\bu23957\\appdata\\local\\anaconda3\\lib\\site-packages (1.26.4)\n",
      "Requirement already satisfied: scikit-learn in c:\\users\\bu23957\\appdata\\local\\anaconda3\\lib\\site-packages (1.4.1.post1)\n",
      "Requirement already satisfied: mne in c:\\users\\bu23957\\appdata\\local\\anaconda3\\lib\\site-packages (1.6.1)\n",
      "Requirement already satisfied: pyEDFlib in c:\\users\\bu23957\\appdata\\local\\anaconda3\\lib\\site-packages (0.1.37)\n",
      "Requirement already satisfied: scipy>=1.6.0 in c:\\users\\bu23957\\appdata\\local\\anaconda3\\lib\\site-packages (from scikit-learn) (1.12.0)\n",
      "Requirement already satisfied: joblib>=1.2.0 in c:\\users\\bu23957\\appdata\\local\\anaconda3\\lib\\site-packages (from scikit-learn) (1.3.2)\n",
      "Requirement already satisfied: threadpoolctl>=2.0.0 in c:\\users\\bu23957\\appdata\\local\\anaconda3\\lib\\site-packages (from scikit-learn) (3.3.0)\n",
      "Requirement already satisfied: matplotlib>=3.5.0 in c:\\users\\bu23957\\appdata\\local\\anaconda3\\lib\\site-packages (from mne) (3.8.3)\n",
      "Requirement already satisfied: tqdm in c:\\users\\bu23957\\appdata\\local\\anaconda3\\lib\\site-packages (from mne) (4.65.0)\n",
      "Requirement already satisfied: pooch>=1.5 in c:\\users\\bu23957\\appdata\\local\\anaconda3\\lib\\site-packages (from mne) (1.8.1)\n",
      "Requirement already satisfied: decorator in c:\\users\\bu23957\\appdata\\local\\anaconda3\\lib\\site-packages (from mne) (5.1.1)\n",
      "Requirement already satisfied: packaging in c:\\users\\bu23957\\appdata\\local\\anaconda3\\lib\\site-packages (from mne) (23.2)\n",
      "Requirement already satisfied: jinja2 in c:\\users\\bu23957\\appdata\\local\\anaconda3\\lib\\site-packages (from mne) (3.1.3)\n",
      "Requirement already satisfied: lazy-loader>=0.3 in c:\\users\\bu23957\\appdata\\local\\anaconda3\\lib\\site-packages (from mne) (0.3)\n",
      "Requirement already satisfied: contourpy>=1.0.1 in c:\\users\\bu23957\\appdata\\local\\anaconda3\\lib\\site-packages (from matplotlib>=3.5.0->mne) (1.2.0)\n",
      "Requirement already satisfied: cycler>=0.10 in c:\\users\\bu23957\\appdata\\local\\anaconda3\\lib\\site-packages (from matplotlib>=3.5.0->mne) (0.12.1)\n",
      "Requirement already satisfied: fonttools>=4.22.0 in c:\\users\\bu23957\\appdata\\local\\anaconda3\\lib\\site-packages (from matplotlib>=3.5.0->mne) (4.49.0)\n",
      "Requirement already satisfied: kiwisolver>=1.3.1 in c:\\users\\bu23957\\appdata\\local\\anaconda3\\lib\\site-packages (from matplotlib>=3.5.0->mne) (1.4.5)\n",
      "Requirement already satisfied: pillow>=8 in c:\\users\\bu23957\\appdata\\local\\anaconda3\\lib\\site-packages (from matplotlib>=3.5.0->mne) (10.2.0)\n",
      "Requirement already satisfied: pyparsing>=2.3.1 in c:\\users\\bu23957\\appdata\\local\\anaconda3\\lib\\site-packages (from matplotlib>=3.5.0->mne) (3.1.2)\n",
      "Requirement already satisfied: python-dateutil>=2.7 in c:\\users\\bu23957\\appdata\\local\\anaconda3\\lib\\site-packages (from matplotlib>=3.5.0->mne) (2.8.2)\n",
      "Requirement already satisfied: platformdirs>=2.5.0 in c:\\users\\bu23957\\appdata\\local\\anaconda3\\lib\\site-packages (from pooch>=1.5->mne) (3.10.0)\n",
      "Requirement already satisfied: requests>=2.19.0 in c:\\users\\bu23957\\appdata\\local\\anaconda3\\lib\\site-packages (from pooch>=1.5->mne) (2.31.0)\n",
      "Requirement already satisfied: MarkupSafe>=2.0 in c:\\users\\bu23957\\appdata\\local\\anaconda3\\lib\\site-packages (from jinja2->mne) (2.1.3)\n",
      "Requirement already satisfied: colorama in c:\\users\\bu23957\\appdata\\local\\anaconda3\\lib\\site-packages (from tqdm->mne) (0.4.6)\n",
      "Requirement already satisfied: six>=1.5 in c:\\users\\bu23957\\appdata\\local\\anaconda3\\lib\\site-packages (from python-dateutil>=2.7->matplotlib>=3.5.0->mne) (1.16.0)\n",
      "Requirement already satisfied: charset-normalizer<4,>=2 in c:\\users\\bu23957\\appdata\\local\\anaconda3\\lib\\site-packages (from requests>=2.19.0->pooch>=1.5->mne) (2.0.4)\n",
      "Requirement already satisfied: idna<4,>=2.5 in c:\\users\\bu23957\\appdata\\local\\anaconda3\\lib\\site-packages (from requests>=2.19.0->pooch>=1.5->mne) (3.4)\n",
      "Requirement already satisfied: urllib3<3,>=1.21.1 in c:\\users\\bu23957\\appdata\\local\\anaconda3\\lib\\site-packages (from requests>=2.19.0->pooch>=1.5->mne) (2.1.0)\n",
      "Requirement already satisfied: certifi>=2017.4.17 in c:\\users\\bu23957\\appdata\\local\\anaconda3\\lib\\site-packages (from requests>=2.19.0->pooch>=1.5->mne) (2024.2.2)\n"
     ]
    }
   ],
   "source": [
    "!pip install numpy scikit-learn mne pyEDFlib"
   ]
  },
  {
   "cell_type": "markdown",
   "id": "148e4b53",
   "metadata": {},
   "source": [
    "###  Choose Data for Analysis and Data Preprocessing"
   ]
  },
  {
   "cell_type": "code",
   "execution_count": 26,
   "id": "58631959",
   "metadata": {},
   "outputs": [],
   "source": [
    "import numpy as np"
   ]
  },
  {
   "cell_type": "code",
   "execution_count": 29,
   "id": "23ac6493",
   "metadata": {},
   "outputs": [
    {
     "name": "stdout",
     "output_type": "stream",
     "text": [
      "Extracting EDF parameters from C:\\Users\\bu23957\\Downloads\\sleep-cassette\\SC4001E0-PSG.edf...\n",
      "EDF file detected\n",
      "Setting channel info structure...\n",
      "Creating raw.info structure...\n",
      "Reading 0 ... 7949999  =      0.000 ... 79499.990 secs...\n"
     ]
    },
    {
     "data": {
      "text/html": [
       "<details open>\n",
       "    <summary><strong>General</strong></summary>\n",
       "    <table class=\"table table-hover table-striped table-sm table-responsive small\">\n",
       "        <tr>\n",
       "            <th>Measurement date</th>\n",
       "            \n",
       "            <td>April 24, 1989  16:13:00 GMT</td>\n",
       "            \n",
       "        </tr>\n",
       "        <tr>\n",
       "            <th>Experimenter</th>\n",
       "            \n",
       "            <td>Unknown</td>\n",
       "            \n",
       "        </tr>\n",
       "        <tr>\n",
       "            <th>Participant</th>\n",
       "            \n",
       "            \n",
       "            <td>X</td>\n",
       "            \n",
       "            \n",
       "        </tr>\n",
       "    </table>\n",
       "    </details>\n",
       "    <details open>\n",
       "        <summary><strong>Channels</strong></summary>\n",
       "        <table class=\"table table-hover table-striped table-sm table-responsive small\">\n",
       "            <tr>\n",
       "                <th>Digitized points</th>\n",
       "                \n",
       "                <td>Not available</td>\n",
       "                \n",
       "            </tr>\n",
       "            <tr>\n",
       "                <th>Good channels</th>\n",
       "                <td>7 EEG</td>\n",
       "            </tr>\n",
       "            <tr>\n",
       "                <th>Bad channels</th>\n",
       "                <td>None</td>\n",
       "            </tr>\n",
       "            <tr>\n",
       "                <th>EOG channels</th>\n",
       "                <td>Not available</td>\n",
       "            </tr>\n",
       "            <tr>\n",
       "                <th>ECG channels</th>\n",
       "                <td>Not available</td>\n",
       "            </tr>\n",
       "        </table>\n",
       "        </details>\n",
       "        <details open>\n",
       "            <summary><strong>Data</strong></summary>\n",
       "            <table class=\"table table-hover table-striped table-sm table-responsive small\">\n",
       "                \n",
       "                <tr>\n",
       "                    <th>Sampling frequency</th>\n",
       "                    <td>100.00 Hz</td>\n",
       "                </tr>\n",
       "                \n",
       "                \n",
       "                <tr>\n",
       "                    <th>Highpass</th>\n",
       "                    <td>0.50 Hz</td>\n",
       "                </tr>\n",
       "                \n",
       "                \n",
       "                <tr>\n",
       "                    <th>Lowpass</th>\n",
       "                    <td>100.00 Hz</td>\n",
       "                </tr>\n",
       "                \n",
       "                \n",
       "                \n",
       "                <tr>\n",
       "                    <th>Filenames</th>\n",
       "                    <td>SC4001E0-PSG.edf</td>\n",
       "                </tr>\n",
       "                \n",
       "                \n",
       "                <tr>\n",
       "                    <th>Duration</th>\n",
       "                    <td>22:04:60 (HH:MM:SS)</td>\n",
       "                </tr>\n",
       "                \n",
       "            </table>\n",
       "            </details>"
      ],
      "text/plain": [
       "<RawEDF | SC4001E0-PSG.edf, 7 x 7950000 (79500.0 s), ~424.6 MB, data loaded>"
      ]
     },
     "execution_count": 29,
     "metadata": {},
     "output_type": "execute_result"
    }
   ],
   "source": [
    "import mne\n",
    "\n",
    "# Replace these file paths with the paths to your downloaded files\n",
    "psg_file = 'sleep-cassette/SC4001E0-PSG.edf'\n",
    "hyp_file = 'sleep-cassette/SC4001EC-Hypnogram.edf'\n",
    "\n",
    "# Read PSG file\n",
    "raw = mne.io.read_raw_edf(psg_file, preload=True)\n",
    "# Read and apply annotations from the hypnogram file\n",
    "annotations = mne.read_annotations(hyp_file)\n",
    "raw.set_annotations(annotations)\n"
   ]
  },
  {
   "cell_type": "markdown",
   "id": "57935e7a",
   "metadata": {},
   "source": [
    "### preprocessing"
   ]
  },
  {
   "cell_type": "code",
   "execution_count": 31,
   "id": "2efde5f5",
   "metadata": {},
   "outputs": [
    {
     "name": "stdout",
     "output_type": "stream",
     "text": [
      "Extracting EDF parameters from C:\\Users\\bu23957\\Downloads\\sleep-cassette\\SC4001E0-PSG.edf...\n",
      "EDF file detected\n",
      "Setting channel info structure...\n",
      "Creating raw.info structure...\n",
      "Reading 0 ... 7949999  =      0.000 ... 79499.990 secs...\n",
      "Filtering raw data in 1 contiguous segment\n",
      "Setting up band-pass filter from 0.5 - 40 Hz\n",
      "\n",
      "FIR filter parameters\n",
      "---------------------\n",
      "Designing a one-pass, zero-phase, non-causal bandpass filter:\n",
      "- Windowed time-domain design (firwin) method\n",
      "- Hamming window with 0.0194 passband ripple and 53 dB stopband attenuation\n",
      "- Lower passband edge: 0.50\n",
      "- Lower transition bandwidth: 0.50 Hz (-6 dB cutoff frequency: 0.25 Hz)\n",
      "- Upper passband edge: 40.00 Hz\n",
      "- Upper transition bandwidth: 10.00 Hz (-6 dB cutoff frequency: 45.00 Hz)\n",
      "- Filter length: 661 samples (6.610 s)\n",
      "\n",
      "Sampling frequency of the instance is already 100.0, returning unmodified.\n",
      "Used Annotations descriptions: ['Sleep stage 1', 'Sleep stage 2', 'Sleep stage 3', 'Sleep stage 4', 'Sleep stage R', 'Sleep stage W']\n",
      "Not setting metadata\n",
      "153 matching events found\n",
      "No baseline correction applied\n",
      "0 projection items activated\n",
      "Using data from preloaded Raw for 153 events and 3000 original time points ...\n",
      "0 bad epochs dropped\n",
      "<Epochs |  153 events (all good), 0 – 29.99 s, baseline off, ~24.5 MB, data loaded,\n",
      " 'Sleep stage 1': 24\n",
      " 'Sleep stage 2': 40\n",
      " 'Sleep stage 3': 71\n",
      " 'Sleep stage 4': 71\n",
      " 'Sleep stage R': 6\n",
      " 'Sleep stage W': 12>\n"
     ]
    }
   ],
   "source": [
    "# Function for data preprocessing (filtering, resampling, and epoching)\n",
    "def preprocess_data(raw, epoch_length=30):\n",
    "    # Filter data between 0.5 and 40 Hz\n",
    "    raw.filter(0.5, 40, fir_design='firwin')\n",
    "    \n",
    "    # Resample the data to 100 Hz to reduce data size and computation time\n",
    "    raw.resample(100)\n",
    "    \n",
    "    # Create events from annotations in the raw data\n",
    "    # Mapping sleep stage annotations to integers for epoching\n",
    "    annotation_desc_2_event_id = {\n",
    "        'Sleep stage W': 1,\n",
    "        'Sleep stage 1': 2,\n",
    "        'Sleep stage 2': 3,\n",
    "        'Sleep stage 3': 4,\n",
    "        'Sleep stage 4': 4,  # Merge stage 3 and stage 4 for AASM classification\n",
    "        'Sleep stage R': 5\n",
    "    }\n",
    "    events, event_id = mne.events_from_annotations(raw, event_id=annotation_desc_2_event_id)\n",
    "    \n",
    "    # Pick the EEG channels for epoching\n",
    "    picks = mne.pick_types(raw.info, meg=False, eeg=True, eog=False, stim=False)\n",
    "    \n",
    "    # Epoch the data around event markers\n",
    "    epochs = mne.Epochs(raw, events, event_id=event_id, picks=picks, tmin=0, tmax=epoch_length - 1 / raw.info['sfreq'], \n",
    "                        baseline=None, preload=True)\n",
    "    \n",
    "    return epochs\n",
    "\n",
    "# File paths - replace these with your actual file paths\n",
    "psg_file = 'sleep-cassette/SC4001E0-PSG.edf'\n",
    "hyp_file = 'sleep-cassette/SC4001EC-Hypnogram.edf'\n",
    "\n",
    "# Read the PSG and hypnogram files\n",
    "raw = read_data(psg_file, hyp_file)\n",
    "\n",
    "# Preprocess the data (filter, resample, epoch)\n",
    "epochs = preprocess_data(raw)\n",
    "\n",
    "# Print summary information about the epochs\n",
    "print(epochs)\n"
   ]
  },
  {
   "cell_type": "code",
   "execution_count": null,
   "id": "4d3b1f9a",
   "metadata": {},
   "outputs": [],
   "source": []
  },
  {
   "cell_type": "code",
   "execution_count": 32,
   "id": "be5a8fc2",
   "metadata": {},
   "outputs": [],
   "source": [
    "# Example for directly using the events\n",
    "labels = epochs.events[:, -1]  # Assuming the last column contains the event/stage ID"
   ]
  },
  {
   "cell_type": "code",
   "execution_count": 33,
   "id": "caff412f",
   "metadata": {},
   "outputs": [],
   "source": [
    "X = epochs.get_data()  # Extract epoch data\n",
    "X = (X - X.mean()) / X.std()  # Normalize\n",
    "y = to_categorical(labels)  # Assuming labels are already in a numeric format"
   ]
  },
  {
   "cell_type": "code",
   "execution_count": 34,
   "id": "40b6483d",
   "metadata": {},
   "outputs": [],
   "source": [
    "from tensorflow.keras.models import Sequential\n",
    "from tensorflow.keras.layers import Conv1D, MaxPooling1D, Flatten, Dense\n",
    "\n",
    "model = Sequential([\n",
    "    Conv1D(filters=16, kernel_size=3, activation='relu', input_shape=(X.shape[1], X.shape[2])),\n",
    "    MaxPooling1D(pool_size=2),\n",
    "    Flatten(),\n",
    "    Dense(64, activation='relu'),\n",
    "    Dense(y.shape[1], activation='softmax')\n",
    "])\n",
    "\n",
    "model.compile(optimizer='adam', loss='categorical_crossentropy', metrics=['accuracy'])"
   ]
  },
  {
   "cell_type": "code",
   "execution_count": 35,
   "id": "a40ed98b",
   "metadata": {},
   "outputs": [],
   "source": [
    "from sklearn.model_selection import train_test_split\n",
    "\n",
    "X_train, X_test, y_train, y_test = train_test_split(X, y, test_size=0.2, random_state=42)"
   ]
  },
  {
   "cell_type": "code",
   "execution_count": 40,
   "id": "e2eebea1",
   "metadata": {},
   "outputs": [
    {
     "name": "stdout",
     "output_type": "stream",
     "text": [
      "Epoch 1/50\n",
      "4/4 [==============================] - 0s 79ms/step - loss: 0.1285 - accuracy: 0.9754 - val_loss: 2.7259 - val_accuracy: 0.2903\n",
      "Epoch 2/50\n",
      "4/4 [==============================] - 0s 29ms/step - loss: 0.0866 - accuracy: 1.0000 - val_loss: 2.7768 - val_accuracy: 0.3871\n",
      "Epoch 3/50\n",
      "4/4 [==============================] - 0s 27ms/step - loss: 0.0834 - accuracy: 0.9836 - val_loss: 2.8517 - val_accuracy: 0.3226\n",
      "Epoch 4/50\n",
      "4/4 [==============================] - 0s 31ms/step - loss: 0.0686 - accuracy: 0.9918 - val_loss: 2.8740 - val_accuracy: 0.3548\n",
      "Epoch 5/50\n",
      "4/4 [==============================] - 0s 33ms/step - loss: 0.0531 - accuracy: 1.0000 - val_loss: 2.9796 - val_accuracy: 0.3548\n",
      "Epoch 6/50\n",
      "4/4 [==============================] - 0s 31ms/step - loss: 0.0563 - accuracy: 0.9918 - val_loss: 2.9981 - val_accuracy: 0.2581\n",
      "Epoch 7/50\n",
      "4/4 [==============================] - 0s 28ms/step - loss: 0.0427 - accuracy: 1.0000 - val_loss: 2.9887 - val_accuracy: 0.3226\n",
      "Epoch 8/50\n",
      "4/4 [==============================] - 0s 31ms/step - loss: 0.0386 - accuracy: 1.0000 - val_loss: 3.0394 - val_accuracy: 0.3226\n",
      "Epoch 9/50\n",
      "4/4 [==============================] - 0s 35ms/step - loss: 0.0311 - accuracy: 1.0000 - val_loss: 3.0575 - val_accuracy: 0.2903\n",
      "Epoch 10/50\n",
      "4/4 [==============================] - 0s 29ms/step - loss: 0.0268 - accuracy: 1.0000 - val_loss: 3.1162 - val_accuracy: 0.2903\n",
      "Epoch 11/50\n",
      "4/4 [==============================] - 0s 28ms/step - loss: 0.0237 - accuracy: 1.0000 - val_loss: 3.1758 - val_accuracy: 0.3226\n",
      "Epoch 12/50\n",
      "4/4 [==============================] - 0s 30ms/step - loss: 0.0219 - accuracy: 1.0000 - val_loss: 3.2278 - val_accuracy: 0.2903\n",
      "Epoch 13/50\n",
      "4/4 [==============================] - 0s 32ms/step - loss: 0.0199 - accuracy: 1.0000 - val_loss: 3.2812 - val_accuracy: 0.2903\n",
      "Epoch 14/50\n",
      "4/4 [==============================] - 0s 32ms/step - loss: 0.0187 - accuracy: 1.0000 - val_loss: 3.3087 - val_accuracy: 0.2903\n",
      "Epoch 15/50\n",
      "4/4 [==============================] - 0s 29ms/step - loss: 0.0172 - accuracy: 1.0000 - val_loss: 3.3328 - val_accuracy: 0.2903\n",
      "Epoch 16/50\n",
      "4/4 [==============================] - 0s 36ms/step - loss: 0.0162 - accuracy: 1.0000 - val_loss: 3.3339 - val_accuracy: 0.2903\n",
      "Epoch 17/50\n",
      "4/4 [==============================] - 0s 37ms/step - loss: 0.0151 - accuracy: 1.0000 - val_loss: 3.3411 - val_accuracy: 0.2903\n",
      "Epoch 18/50\n",
      "4/4 [==============================] - 0s 33ms/step - loss: 0.0142 - accuracy: 1.0000 - val_loss: 3.3482 - val_accuracy: 0.2903\n",
      "Epoch 19/50\n",
      "4/4 [==============================] - 0s 30ms/step - loss: 0.0135 - accuracy: 1.0000 - val_loss: 3.3548 - val_accuracy: 0.2903\n",
      "Epoch 20/50\n",
      "4/4 [==============================] - 0s 28ms/step - loss: 0.0128 - accuracy: 1.0000 - val_loss: 3.3570 - val_accuracy: 0.2903\n",
      "Epoch 21/50\n",
      "4/4 [==============================] - 0s 29ms/step - loss: 0.0123 - accuracy: 1.0000 - val_loss: 3.3689 - val_accuracy: 0.2581\n",
      "Epoch 22/50\n",
      "4/4 [==============================] - 0s 30ms/step - loss: 0.0119 - accuracy: 1.0000 - val_loss: 3.3718 - val_accuracy: 0.2903\n",
      "Epoch 23/50\n",
      "4/4 [==============================] - 0s 32ms/step - loss: 0.0112 - accuracy: 1.0000 - val_loss: 3.3863 - val_accuracy: 0.2903\n",
      "Epoch 24/50\n",
      "4/4 [==============================] - 0s 29ms/step - loss: 0.0108 - accuracy: 1.0000 - val_loss: 3.4035 - val_accuracy: 0.2581\n",
      "Epoch 25/50\n",
      "4/4 [==============================] - 0s 30ms/step - loss: 0.0102 - accuracy: 1.0000 - val_loss: 3.4233 - val_accuracy: 0.2581\n",
      "Epoch 26/50\n",
      "4/4 [==============================] - 0s 32ms/step - loss: 0.0100 - accuracy: 1.0000 - val_loss: 3.4401 - val_accuracy: 0.2581\n",
      "Epoch 27/50\n",
      "4/4 [==============================] - 0s 30ms/step - loss: 0.0095 - accuracy: 1.0000 - val_loss: 3.4461 - val_accuracy: 0.2581\n",
      "Epoch 28/50\n",
      "4/4 [==============================] - 0s 29ms/step - loss: 0.0096 - accuracy: 1.0000 - val_loss: 3.4547 - val_accuracy: 0.2581\n",
      "Epoch 29/50\n",
      "4/4 [==============================] - 0s 30ms/step - loss: 0.0090 - accuracy: 1.0000 - val_loss: 3.4787 - val_accuracy: 0.2581\n",
      "Epoch 30/50\n",
      "4/4 [==============================] - 0s 32ms/step - loss: 0.0086 - accuracy: 1.0000 - val_loss: 3.4912 - val_accuracy: 0.2581\n",
      "Epoch 31/50\n",
      "4/4 [==============================] - 0s 27ms/step - loss: 0.0083 - accuracy: 1.0000 - val_loss: 3.4996 - val_accuracy: 0.2581\n",
      "Epoch 32/50\n",
      "4/4 [==============================] - 0s 32ms/step - loss: 0.0079 - accuracy: 1.0000 - val_loss: 3.5150 - val_accuracy: 0.2581\n",
      "Epoch 33/50\n",
      "4/4 [==============================] - 0s 27ms/step - loss: 0.0077 - accuracy: 1.0000 - val_loss: 3.5266 - val_accuracy: 0.2581\n",
      "Epoch 34/50\n",
      "4/4 [==============================] - 0s 30ms/step - loss: 0.0074 - accuracy: 1.0000 - val_loss: 3.5386 - val_accuracy: 0.2581\n",
      "Epoch 35/50\n",
      "4/4 [==============================] - 0s 29ms/step - loss: 0.0071 - accuracy: 1.0000 - val_loss: 3.5488 - val_accuracy: 0.2581\n",
      "Epoch 36/50\n",
      "4/4 [==============================] - 0s 32ms/step - loss: 0.0069 - accuracy: 1.0000 - val_loss: 3.5676 - val_accuracy: 0.2581\n",
      "Epoch 37/50\n",
      "4/4 [==============================] - 0s 32ms/step - loss: 0.0068 - accuracy: 1.0000 - val_loss: 3.5809 - val_accuracy: 0.2581\n",
      "Epoch 38/50\n",
      "4/4 [==============================] - 0s 33ms/step - loss: 0.0067 - accuracy: 1.0000 - val_loss: 3.6032 - val_accuracy: 0.2581\n",
      "Epoch 39/50\n",
      "4/4 [==============================] - 0s 32ms/step - loss: 0.0063 - accuracy: 1.0000 - val_loss: 3.6150 - val_accuracy: 0.2581\n",
      "Epoch 40/50\n",
      "4/4 [==============================] - 0s 30ms/step - loss: 0.0062 - accuracy: 1.0000 - val_loss: 3.6289 - val_accuracy: 0.2903\n",
      "Epoch 41/50\n",
      "4/4 [==============================] - 0s 31ms/step - loss: 0.0060 - accuracy: 1.0000 - val_loss: 3.6437 - val_accuracy: 0.2581\n",
      "Epoch 42/50\n",
      "4/4 [==============================] - 0s 30ms/step - loss: 0.0058 - accuracy: 1.0000 - val_loss: 3.6631 - val_accuracy: 0.2581\n",
      "Epoch 43/50\n",
      "4/4 [==============================] - 0s 28ms/step - loss: 0.0056 - accuracy: 1.0000 - val_loss: 3.6652 - val_accuracy: 0.2258\n",
      "Epoch 44/50\n",
      "4/4 [==============================] - 0s 30ms/step - loss: 0.0054 - accuracy: 1.0000 - val_loss: 3.6706 - val_accuracy: 0.2258\n",
      "Epoch 45/50\n",
      "4/4 [==============================] - 0s 41ms/step - loss: 0.0053 - accuracy: 1.0000 - val_loss: 3.6835 - val_accuracy: 0.2258\n",
      "Epoch 46/50\n",
      "4/4 [==============================] - 0s 28ms/step - loss: 0.0052 - accuracy: 1.0000 - val_loss: 3.7006 - val_accuracy: 0.2258\n",
      "Epoch 47/50\n",
      "4/4 [==============================] - 0s 30ms/step - loss: 0.0050 - accuracy: 1.0000 - val_loss: 3.7117 - val_accuracy: 0.2258\n",
      "Epoch 48/50\n",
      "4/4 [==============================] - 0s 30ms/step - loss: 0.0049 - accuracy: 1.0000 - val_loss: 3.7230 - val_accuracy: 0.2258\n",
      "Epoch 49/50\n",
      "4/4 [==============================] - 0s 30ms/step - loss: 0.0048 - accuracy: 1.0000 - val_loss: 3.7361 - val_accuracy: 0.2258\n",
      "Epoch 50/50\n",
      "4/4 [==============================] - 0s 28ms/step - loss: 0.0046 - accuracy: 1.0000 - val_loss: 3.7454 - val_accuracy: 0.2258\n"
     ]
    }
   ],
   "source": [
    "history = model.fit(X_train, y_train, epochs=50, validation_data=(X_test, y_test))"
   ]
  },
  {
   "cell_type": "code",
   "execution_count": 41,
   "id": "99409f23",
   "metadata": {},
   "outputs": [
    {
     "name": "stdout",
     "output_type": "stream",
     "text": [
      "1/1 - 0s - loss: 3.7454 - accuracy: 0.2258 - 48ms/epoch - 48ms/step\n",
      "Test accuracy: 0.2258\n"
     ]
    }
   ],
   "source": [
    "test_loss, test_acc = model.evaluate(X_test, y_test, verbose=2)\n",
    "print(f\"Test accuracy: {test_acc:.4f}\")"
   ]
  },
  {
   "cell_type": "code",
   "execution_count": 42,
   "id": "41566368",
   "metadata": {},
   "outputs": [
    {
     "name": "stdout",
     "output_type": "stream",
     "text": [
      "1/1 [==============================] - 0s 40ms/step\n",
      "[[0 0 0 0 0]\n",
      " [0 0 0 4 0]\n",
      " [0 2 1 6 1]\n",
      " [1 0 9 6 0]\n",
      " [0 0 0 1 0]]\n",
      "              precision    recall  f1-score   support\n",
      "\n",
      "           1       0.00      0.00      0.00         0\n",
      "           2       0.00      0.00      0.00         4\n",
      "           3       0.10      0.10      0.10        10\n",
      "           4       0.35      0.38      0.36        16\n",
      "           5       0.00      0.00      0.00         1\n",
      "\n",
      "    accuracy                           0.23        31\n",
      "   macro avg       0.09      0.10      0.09        31\n",
      "weighted avg       0.21      0.23      0.22        31\n",
      "\n"
     ]
    }
   ],
   "source": [
    "from sklearn.metrics import classification_report, confusion_matrix\n",
    "\n",
    "y_pred = model.predict(X_test)\n",
    "y_pred_classes = np.argmax(y_pred, axis=1)\n",
    "y_test_classes = np.argmax(y_test, axis=1)\n",
    "\n",
    "print(confusion_matrix(y_test_classes, y_pred_classes))\n",
    "print(classification_report(y_test_classes, y_pred_classes))"
   ]
  },
  {
   "cell_type": "code",
   "execution_count": null,
   "id": "37689bc3",
   "metadata": {},
   "outputs": [],
   "source": []
  }
 ],
 "metadata": {
  "kernelspec": {
   "display_name": "Python 3 (ipykernel)",
   "language": "python",
   "name": "python3"
  },
  "language_info": {
   "codemirror_mode": {
    "name": "ipython",
    "version": 3
   },
   "file_extension": ".py",
   "mimetype": "text/x-python",
   "name": "python",
   "nbconvert_exporter": "python",
   "pygments_lexer": "ipython3",
   "version": "3.11.5"
  }
 },
 "nbformat": 4,
 "nbformat_minor": 5
}
