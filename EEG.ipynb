{
 "cells": [
  {
   "cell_type": "code",
   "execution_count": 1,
   "id": "6cd8d726",
   "metadata": {},
   "outputs": [],
   "source": [
    "import mne"
   ]
  },
  {
   "cell_type": "code",
   "execution_count": 2,
   "id": "c2e85bc8",
   "metadata": {},
   "outputs": [
    {
     "name": "stdout",
     "output_type": "stream",
     "text": [
      "Requirement already satisfied: pyEDFlib in c:\\users\\bu23957\\appdata\\local\\anaconda3\\lib\\site-packages (0.1.37)\n",
      "Requirement already satisfied: numpy>=1.9.1 in c:\\users\\bu23957\\appdata\\local\\anaconda3\\lib\\site-packages (from pyEDFlib) (1.26.4)\n"
     ]
    }
   ],
   "source": [
    "!pip install pyEDFlib"
   ]
  },
  {
   "cell_type": "markdown",
   "id": "ce6f2641",
   "metadata": {},
   "source": [
    "###  Choose Data for Analysis and Data Preprocessing"
   ]
  },
  {
   "cell_type": "code",
   "execution_count": 26,
   "id": "2b638755",
   "metadata": {},
   "outputs": [],
   "source": [
    "import numpy as np"
   ]
  },
  {
   "cell_type": "code",
   "execution_count": 29,
   "id": "7627e450",
   "metadata": {},
   "outputs": [
    {
     "name": "stdout",
     "output_type": "stream",
     "text": [
      "Extracting EDF parameters from C:\\Users\\bu23957\\Downloads\\sleep-cassette\\SC4001E0-PSG.edf...\n",
      "EDF file detected\n",
      "Setting channel info structure...\n",
      "Creating raw.info structure...\n",
      "Reading 0 ... 7949999  =      0.000 ... 79499.990 secs...\n"
     ]
    },
    {
     "data": {
      "text/html": [
       "<details open>\n",
       "    <summary><strong>General</strong></summary>\n",
       "    <table class=\"table table-hover table-striped table-sm table-responsive small\">\n",
       "        <tr>\n",
       "            <th>Measurement date</th>\n",
       "            \n",
       "            <td>April 24, 1989  16:13:00 GMT</td>\n",
       "            \n",
       "        </tr>\n",
       "        <tr>\n",
       "            <th>Experimenter</th>\n",
       "            \n",
       "            <td>Unknown</td>\n",
       "            \n",
       "        </tr>\n",
       "        <tr>\n",
       "            <th>Participant</th>\n",
       "            \n",
       "            \n",
       "            <td>X</td>\n",
       "            \n",
       "            \n",
       "        </tr>\n",
       "    </table>\n",
       "    </details>\n",
       "    <details open>\n",
       "        <summary><strong>Channels</strong></summary>\n",
       "        <table class=\"table table-hover table-striped table-sm table-responsive small\">\n",
       "            <tr>\n",
       "                <th>Digitized points</th>\n",
       "                \n",
       "                <td>Not available</td>\n",
       "                \n",
       "            </tr>\n",
       "            <tr>\n",
       "                <th>Good channels</th>\n",
       "                <td>7 EEG</td>\n",
       "            </tr>\n",
       "            <tr>\n",
       "                <th>Bad channels</th>\n",
       "                <td>None</td>\n",
       "            </tr>\n",
       "            <tr>\n",
       "                <th>EOG channels</th>\n",
       "                <td>Not available</td>\n",
       "            </tr>\n",
       "            <tr>\n",
       "                <th>ECG channels</th>\n",
       "                <td>Not available</td>\n",
       "            </tr>\n",
       "        </table>\n",
       "        </details>\n",
       "        <details open>\n",
       "            <summary><strong>Data</strong></summary>\n",
       "            <table class=\"table table-hover table-striped table-sm table-responsive small\">\n",
       "                \n",
       "                <tr>\n",
       "                    <th>Sampling frequency</th>\n",
       "                    <td>100.00 Hz</td>\n",
       "                </tr>\n",
       "                \n",
       "                \n",
       "                <tr>\n",
       "                    <th>Highpass</th>\n",
       "                    <td>0.50 Hz</td>\n",
       "                </tr>\n",
       "                \n",
       "                \n",
       "                <tr>\n",
       "                    <th>Lowpass</th>\n",
       "                    <td>100.00 Hz</td>\n",
       "                </tr>\n",
       "                \n",
       "                \n",
       "                \n",
       "                <tr>\n",
       "                    <th>Filenames</th>\n",
       "                    <td>SC4001E0-PSG.edf</td>\n",
       "                </tr>\n",
       "                \n",
       "                \n",
       "                <tr>\n",
       "                    <th>Duration</th>\n",
       "                    <td>22:04:60 (HH:MM:SS)</td>\n",
       "                </tr>\n",
       "                \n",
       "            </table>\n",
       "            </details>"
      ],
      "text/plain": [
       "<RawEDF | SC4001E0-PSG.edf, 7 x 7950000 (79500.0 s), ~424.6 MB, data loaded>"
      ]
     },
     "execution_count": 29,
     "metadata": {},
     "output_type": "execute_result"
    }
   ],
   "source": [
    "import mne\n",
    "\n",
    "# Replace these file paths with the paths to your downloaded files\n",
    "psg_file = 'sleep-cassette/SC4001E0-PSG.edf'\n",
    "hyp_file = 'sleep-cassette/SC4001EC-Hypnogram.edf'\n",
    "\n",
    "# Read PSG file\n",
    "raw = mne.io.read_raw_edf(psg_file, preload=True)\n",
    "# Read and apply annotations from the hypnogram file\n",
    "annotations = mne.read_annotations(hyp_file)\n",
    "raw.set_annotations(annotations)\n"
   ]
  },
  {
   "cell_type": "markdown",
   "id": "d0f95e45",
   "metadata": {},
   "source": [
    "### preprocessing"
   ]
  },
  {
   "cell_type": "code",
   "execution_count": 31,
   "id": "1e9dfab5",
   "metadata": {},
   "outputs": [
    {
     "name": "stdout",
     "output_type": "stream",
     "text": [
      "Extracting EDF parameters from C:\\Users\\bu23957\\Downloads\\sleep-cassette\\SC4001E0-PSG.edf...\n",
      "EDF file detected\n",
      "Setting channel info structure...\n",
      "Creating raw.info structure...\n",
      "Reading 0 ... 7949999  =      0.000 ... 79499.990 secs...\n",
      "Filtering raw data in 1 contiguous segment\n",
      "Setting up band-pass filter from 0.5 - 40 Hz\n",
      "\n",
      "FIR filter parameters\n",
      "---------------------\n",
      "Designing a one-pass, zero-phase, non-causal bandpass filter:\n",
      "- Windowed time-domain design (firwin) method\n",
      "- Hamming window with 0.0194 passband ripple and 53 dB stopband attenuation\n",
      "- Lower passband edge: 0.50\n",
      "- Lower transition bandwidth: 0.50 Hz (-6 dB cutoff frequency: 0.25 Hz)\n",
      "- Upper passband edge: 40.00 Hz\n",
      "- Upper transition bandwidth: 10.00 Hz (-6 dB cutoff frequency: 45.00 Hz)\n",
      "- Filter length: 661 samples (6.610 s)\n",
      "\n",
      "Sampling frequency of the instance is already 100.0, returning unmodified.\n",
      "Used Annotations descriptions: ['Sleep stage 1', 'Sleep stage 2', 'Sleep stage 3', 'Sleep stage 4', 'Sleep stage R', 'Sleep stage W']\n",
      "Not setting metadata\n",
      "153 matching events found\n",
      "No baseline correction applied\n",
      "0 projection items activated\n",
      "Using data from preloaded Raw for 153 events and 3000 original time points ...\n",
      "0 bad epochs dropped\n",
      "<Epochs |  153 events (all good), 0 – 29.99 s, baseline off, ~24.5 MB, data loaded,\n",
      " 'Sleep stage 1': 24\n",
      " 'Sleep stage 2': 40\n",
      " 'Sleep stage 3': 71\n",
      " 'Sleep stage 4': 71\n",
      " 'Sleep stage R': 6\n",
      " 'Sleep stage W': 12>\n"
     ]
    }
   ],
   "source": [
    "# Function for data preprocessing (filtering, resampling, and epoching)\n",
    "def preprocess_data(raw, epoch_length=30):\n",
    "    # Filter data between 0.5 and 40 Hz\n",
    "    raw.filter(0.5, 40, fir_design='firwin')\n",
    "    \n",
    "    # Resample the data to 100 Hz to reduce data size and computation time\n",
    "    raw.resample(100)\n",
    "    \n",
    "    # Create events from annotations in the raw data\n",
    "    # Mapping sleep stage annotations to integers for epoching\n",
    "    annotation_desc_2_event_id = {\n",
    "        'Sleep stage W': 1,\n",
    "        'Sleep stage 1': 2,\n",
    "        'Sleep stage 2': 3,\n",
    "        'Sleep stage 3': 4,\n",
    "        'Sleep stage 4': 4,  # Merge stage 3 and stage 4 for AASM classification\n",
    "        'Sleep stage R': 5\n",
    "    }\n",
    "    events, event_id = mne.events_from_annotations(raw, event_id=annotation_desc_2_event_id)\n",
    "    \n",
    "    # Pick the EEG channels for epoching\n",
    "    picks = mne.pick_types(raw.info, meg=False, eeg=True, eog=False, stim=False)\n",
    "    \n",
    "    # Epoch the data around event markers\n",
    "    epochs = mne.Epochs(raw, events, event_id=event_id, picks=picks, tmin=0, tmax=epoch_length - 1 / raw.info['sfreq'], \n",
    "                        baseline=None, preload=True)\n",
    "    \n",
    "    return epochs\n",
    "\n",
    "# File paths - replace these with your actual file paths\n",
    "psg_file = 'sleep-cassette/SC4001E0-PSG.edf'\n",
    "hyp_file = 'sleep-cassette/SC4001EC-Hypnogram.edf'\n",
    "\n",
    "# Read the PSG and hypnogram files\n",
    "raw = read_data(psg_file, hyp_file)\n",
    "\n",
    "# Preprocess the data (filter, resample, epoch)\n",
    "epochs = preprocess_data(raw)\n",
    "\n",
    "# Print summary information about the epochs\n",
    "print(epochs)\n"
   ]
  },
  {
   "cell_type": "code",
   "execution_count": null,
   "id": "6cbec735",
   "metadata": {},
   "outputs": [],
   "source": []
  },
  {
   "cell_type": "code",
   "execution_count": 32,
   "id": "2cc55fff",
   "metadata": {},
   "outputs": [],
   "source": [
    "# Example for directly using the events\n",
    "labels = epochs.events[:, -1]  # Assuming the last column contains the event/stage ID"
   ]
  },
  {
   "cell_type": "code",
   "execution_count": 33,
   "id": "e576c47e",
   "metadata": {},
   "outputs": [],
   "source": [
    "X = epochs.get_data()  # Extract epoch data\n",
    "X = (X - X.mean()) / X.std()  # Normalize\n",
    "y = to_categorical(labels)  # Assuming labels are already in a numeric format"
   ]
  },
  {
   "cell_type": "code",
   "execution_count": 34,
   "id": "c11f6ad7",
   "metadata": {},
   "outputs": [],
   "source": [
    "from tensorflow.keras.models import Sequential\n",
    "from tensorflow.keras.layers import Conv1D, MaxPooling1D, Flatten, Dense\n",
    "\n",
    "model = Sequential([\n",
    "    Conv1D(filters=16, kernel_size=3, activation='relu', input_shape=(X.shape[1], X.shape[2])),\n",
    "    MaxPooling1D(pool_size=2),\n",
    "    Flatten(),\n",
    "    Dense(64, activation='relu'),\n",
    "    Dense(y.shape[1], activation='softmax')\n",
    "])\n",
    "\n",
    "model.compile(optimizer='adam', loss='categorical_crossentropy', metrics=['accuracy'])"
   ]
  },
  {
   "cell_type": "code",
   "execution_count": 35,
   "id": "8e955c15",
   "metadata": {},
   "outputs": [],
   "source": [
    "from sklearn.model_selection import train_test_split\n",
    "\n",
    "X_train, X_test, y_train, y_test = train_test_split(X, y, test_size=0.2, random_state=42)"
   ]
  },
  {
   "cell_type": "code",
   "execution_count": 36,
   "id": "d0178e02",
   "metadata": {},
   "outputs": [
    {
     "name": "stdout",
     "output_type": "stream",
     "text": [
      "Epoch 1/10\n",
      "WARNING:tensorflow:From C:\\Users\\bu23957\\AppData\\Local\\anaconda3\\Lib\\site-packages\\keras\\src\\utils\\tf_utils.py:492: The name tf.ragged.RaggedTensorValue is deprecated. Please use tf.compat.v1.ragged.RaggedTensorValue instead.\n",
      "\n",
      "WARNING:tensorflow:From C:\\Users\\bu23957\\AppData\\Local\\anaconda3\\Lib\\site-packages\\keras\\src\\engine\\base_layer_utils.py:384: The name tf.executing_eagerly_outside_functions is deprecated. Please use tf.compat.v1.executing_eagerly_outside_functions instead.\n",
      "\n",
      "4/4 [==============================] - 4s 225ms/step - loss: 2.2643 - accuracy: 0.3770 - val_loss: 1.8937 - val_accuracy: 0.5161\n",
      "Epoch 2/10\n",
      "4/4 [==============================] - 0s 30ms/step - loss: 1.7981 - accuracy: 0.5000 - val_loss: 2.1571 - val_accuracy: 0.2581\n",
      "Epoch 3/10\n",
      "4/4 [==============================] - 0s 33ms/step - loss: 1.3429 - accuracy: 0.5820 - val_loss: 2.4597 - val_accuracy: 0.3548\n",
      "Epoch 4/10\n",
      "4/4 [==============================] - 0s 31ms/step - loss: 1.1121 - accuracy: 0.6393 - val_loss: 2.6680 - val_accuracy: 0.3871\n",
      "Epoch 5/10\n",
      "4/4 [==============================] - 0s 31ms/step - loss: 0.7360 - accuracy: 0.6885 - val_loss: 2.2489 - val_accuracy: 0.3871\n",
      "Epoch 6/10\n",
      "4/4 [==============================] - 0s 35ms/step - loss: 0.5488 - accuracy: 0.8279 - val_loss: 2.0463 - val_accuracy: 0.3871\n",
      "Epoch 7/10\n",
      "4/4 [==============================] - 0s 30ms/step - loss: 0.4316 - accuracy: 0.8852 - val_loss: 2.2786 - val_accuracy: 0.4194\n",
      "Epoch 8/10\n",
      "4/4 [==============================] - 0s 31ms/step - loss: 0.3318 - accuracy: 0.9180 - val_loss: 2.5003 - val_accuracy: 0.3226\n",
      "Epoch 9/10\n",
      "4/4 [==============================] - 0s 25ms/step - loss: 0.2337 - accuracy: 0.9672 - val_loss: 2.8605 - val_accuracy: 0.3548\n",
      "Epoch 10/10\n",
      "4/4 [==============================] - 0s 28ms/step - loss: 0.1839 - accuracy: 0.9508 - val_loss: 2.7771 - val_accuracy: 0.2581\n"
     ]
    }
   ],
   "source": [
    "history = model.fit(X_train, y_train, epochs=10, validation_data=(X_test, y_test))"
   ]
  },
  {
   "cell_type": "code",
   "execution_count": 37,
   "id": "2016973a",
   "metadata": {},
   "outputs": [
    {
     "name": "stdout",
     "output_type": "stream",
     "text": [
      "1/1 - 0s - loss: 2.7771 - accuracy: 0.2581 - 60ms/epoch - 60ms/step\n",
      "Test accuracy: 0.2581\n"
     ]
    }
   ],
   "source": [
    "test_loss, test_acc = model.evaluate(X_test, y_test, verbose=2)\n",
    "print(f\"Test accuracy: {test_acc:.4f}\")"
   ]
  },
  {
   "cell_type": "code",
   "execution_count": null,
   "id": "bbf320b7",
   "metadata": {},
   "outputs": [],
   "source": []
  }
 ],
 "metadata": {
  "kernelspec": {
   "display_name": "Python 3 (ipykernel)",
   "language": "python",
   "name": "python3"
  },
  "language_info": {
   "codemirror_mode": {
    "name": "ipython",
    "version": 3
   },
   "file_extension": ".py",
   "mimetype": "text/x-python",
   "name": "python",
   "nbconvert_exporter": "python",
   "pygments_lexer": "ipython3",
   "version": "3.11.5"
  }
 },
 "nbformat": 4,
 "nbformat_minor": 5
}
