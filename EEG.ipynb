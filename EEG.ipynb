{
 "cells": [
  {
   "cell_type": "code",
   "execution_count": null,
   "id": "0e852183",
   "metadata": {},
   "outputs": [],
   "source": [
    "!pip install mne\n",
    "!pip install scikit-learn\n",
    "!pip install mne numpy scipy sklearn matplotlib pyedflib\n",
    "!pip install -U mne"
   ]
  },
  {
   "cell_type": "code",
   "execution_count": 3,
   "id": "036efae0",
   "metadata": {},
   "outputs": [
    {
     "name": "stdout",
     "output_type": "stream",
     "text": [
      "Extracting EDF parameters from C:\\Users\\bu23957\\Downloads\\SC4022E0-PSG.edf...\n",
      "EDF file detected\n",
      "Setting channel info structure...\n",
      "Creating raw.info structure...\n",
      "Reading 0 ... 8267999  =      0.000 ... 82679.990 secs...\n",
      "Filtering raw data in 1 contiguous segment\n",
      "Setting up band-pass filter from 0.5 - 30 Hz\n",
      "\n",
      "FIR filter parameters\n",
      "---------------------\n",
      "Designing a one-pass, zero-phase, non-causal bandpass filter:\n",
      "- Windowed time-domain design (firwin) method\n",
      "- Hamming window with 0.0194 passband ripple and 53 dB stopband attenuation\n",
      "- Lower passband edge: 0.50\n",
      "- Lower transition bandwidth: 0.50 Hz (-6 dB cutoff frequency: 0.25 Hz)\n",
      "- Upper passband edge: 30.00 Hz\n",
      "- Upper transition bandwidth: 7.50 Hz (-6 dB cutoff frequency: 33.75 Hz)\n",
      "- Filter length: 661 samples (6.610 s)\n",
      "\n"
     ]
    },
    {
     "name": "stderr",
     "output_type": "stream",
     "text": [
      "C:\\Users\\bu23957\\AppData\\Local\\Temp\\ipykernel_11360\\3170110564.py:16: RuntimeWarning: Limited 1 annotation(s) that were expanding outside the data range.\n",
      "  raw.set_annotations(annotations)\n"
     ]
    },
    {
     "name": "stdout",
     "output_type": "stream",
     "text": [
      "Used Annotations descriptions: ['Sleep stage 1', 'Sleep stage 2', 'Sleep stage 3', 'Sleep stage 4', 'Sleep stage R', 'Sleep stage W']\n",
      "Not setting metadata\n",
      "2755 matching events found\n",
      "No baseline correction applied\n",
      "0 projection items activated\n",
      "Using data from preloaded Raw for 2755 events and 3001 original time points ...\n",
      "1 bad epochs dropped\n"
     ]
    },
    {
     "name": "stderr",
     "output_type": "stream",
     "text": [
      "C:\\Users\\bu23957\\AppData\\Local\\Temp\\ipykernel_11360\\3170110564.py:32: FutureWarning: The current default of copy=False will change to copy=True in 1.7. Set the value of copy explicitly to avoid this warning\n",
      "  data = epochs.get_data()  # Shape: (n_epochs, n_channels, n_times)\n"
     ]
    },
    {
     "name": "stdout",
     "output_type": "stream",
     "text": [
      "              precision    recall  f1-score   support\n",
      "\n",
      "           1       1.00      0.99      0.99       476\n",
      "           2       0.72      0.56      0.63        50\n",
      "           3       0.84      0.96      0.90        94\n",
      "           4       0.90      0.90      0.90        21\n",
      "           5       0.80      0.85      0.83        48\n",
      "\n",
      "    accuracy                           0.94       689\n",
      "   macro avg       0.85      0.85      0.85       689\n",
      "weighted avg       0.94      0.94      0.94       689\n",
      "\n"
     ]
    }
   ],
   "source": [
    "import mne\n",
    "import numpy as np\n",
    "from scipy.signal import welch\n",
    "from sklearn.model_selection import train_test_split\n",
    "from sklearn.ensemble import RandomForestClassifier\n",
    "from sklearn.metrics import classification_report\n",
    "from sklearn.preprocessing import StandardScaler\n",
    "\n",
    "# Path to your EEG data and hypnogram file\n",
    "eeg_file_path = 'SC4022E0-PSG.edf'\n",
    "hypnogram_file_path = 'SC4022EJ-Hypnogram.edf'\n",
    "\n",
    "# Load EEG data\n",
    "raw = mne.io.read_raw_edf(eeg_file_path, preload=True)\n",
    "annotations = mne.read_annotations(hypnogram_file_path)\n",
    "raw.set_annotations(annotations)\n",
    "\n",
    "# Apply a band-pass filter\n",
    "raw.filter(0.5, 30, fir_design='firwin')\n",
    "\n",
    "# Mapping of sleep stages to integers, excluding 'Sleep stage ?'\n",
    "event_id = {'Sleep stage W': 1, 'Sleep stage 1': 2, 'Sleep stage 2': 3,\n",
    "            'Sleep stage 3': 4, 'Sleep stage 4': 4, 'Sleep stage R': 5}\n",
    "\n",
    "# Create events from annotations\n",
    "events, _ = mne.events_from_annotations(raw, event_id=event_id, chunk_duration=30.)\n",
    "\n",
    "# Create epochs, ignoring annotations that are not found in event_id\n",
    "epochs = mne.Epochs(raw, events, event_id=event_id, tmin=0., tmax=30., baseline=None, preload=True, on_missing='ignore')\n",
    "\n",
    "# Convert epochs to data array\n",
    "data = epochs.get_data()  # Shape: (n_epochs, n_channels, n_times)\n",
    "\n",
    "# Feature extraction: Power Spectral Density (PSD)\n",
    "n_fft = int(raw.info['sfreq'])\n",
    "psds = []\n",
    "for epoch in data:\n",
    "    psd = welch(epoch, fs=raw.info['sfreq'], nperseg=n_fft)\n",
    "    psds.append(psd[1].mean(axis=1))  # Averaging across frequencies\n",
    "psds = np.array(psds)\n",
    "\n",
    "# Preparing labels for the classifier\n",
    "labels = epochs.events[:, -1]\n",
    "\n",
    "# Data scaling\n",
    "scaler = StandardScaler()\n",
    "psds_scaled = scaler.fit_transform(psds)\n",
    "\n",
    "# Splitting dataset into training and testing set\n",
    "X_train, X_test, y_train, y_test = train_test_split(psds_scaled, labels, test_size=0.25, random_state=42)\n",
    "\n",
    "# Training a RandomForest classifier\n",
    "clf = RandomForestClassifier(n_estimators=100, random_state=42)\n",
    "clf.fit(X_train, y_train)\n",
    "\n",
    "# Predictions\n",
    "y_pred = clf.predict(X_test)\n",
    "\n",
    "# Evaluation\n",
    "print(classification_report(y_test, y_pred))\n"
   ]
  },
  {
   "cell_type": "code",
   "execution_count": null,
   "id": "1cb54b83",
   "metadata": {},
   "outputs": [],
   "source": []
  },
  {
   "cell_type": "code",
   "execution_count": null,
   "id": "0cc6cf23",
   "metadata": {},
   "outputs": [],
   "source": []
  },
  {
   "cell_type": "code",
   "execution_count": null,
   "id": "8b6f1806",
   "metadata": {},
   "outputs": [],
   "source": []
  }
 ],
 "metadata": {
  "kernelspec": {
   "display_name": "Python 3 (ipykernel)",
   "language": "python",
   "name": "python3"
  },
  "language_info": {
   "codemirror_mode": {
    "name": "ipython",
    "version": 3
   },
   "file_extension": ".py",
   "mimetype": "text/x-python",
   "name": "python",
   "nbconvert_exporter": "python",
   "pygments_lexer": "ipython3",
   "version": "3.11.5"
  }
 },
 "nbformat": 4,
 "nbformat_minor": 5
}
