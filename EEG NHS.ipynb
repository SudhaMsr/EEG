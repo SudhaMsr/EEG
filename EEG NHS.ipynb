{
 "cells": [
  {
   "cell_type": "code",
   "execution_count": 1,
   "id": "e9921629",
   "metadata": {},
   "outputs": [
    {
     "name": "stdout",
     "output_type": "stream",
     "text": [
      "Collecting mne\n",
      "  Obtaining dependency information for mne from https://files.pythonhosted.org/packages/79/34/06151e860d86273afd7b2f2fef560783b4afc9e2601b333f008869fb606c/mne-1.6.1-py3-none-any.whl.metadata\n",
      "  Downloading mne-1.6.1-py3-none-any.whl.metadata (13 kB)\n",
      "Requirement already satisfied: numpy>=1.21.2 in c:\\users\\bu23957\\appdata\\local\\anaconda3\\lib\\site-packages (from mne) (1.24.3)\n",
      "Requirement already satisfied: scipy>=1.7.1 in c:\\users\\bu23957\\appdata\\local\\anaconda3\\lib\\site-packages (from mne) (1.10.1)\n",
      "Requirement already satisfied: matplotlib>=3.5.0 in c:\\users\\bu23957\\appdata\\local\\anaconda3\\lib\\site-packages (from mne) (3.7.1)\n",
      "Requirement already satisfied: tqdm in c:\\users\\bu23957\\appdata\\local\\anaconda3\\lib\\site-packages (from mne) (4.65.0)\n",
      "Collecting pooch>=1.5 (from mne)\n",
      "  Obtaining dependency information for pooch>=1.5 from https://files.pythonhosted.org/packages/f4/72/8ae0f1ba4ce6a4f6d4d01a60a9fdf690fde188c45c1872b0b4ddb0607ace/pooch-1.8.1-py3-none-any.whl.metadata\n",
      "  Downloading pooch-1.8.1-py3-none-any.whl.metadata (9.5 kB)\n",
      "Requirement already satisfied: decorator in c:\\users\\bu23957\\appdata\\local\\anaconda3\\lib\\site-packages (from mne) (5.1.1)\n",
      "Requirement already satisfied: packaging in c:\\users\\bu23957\\appdata\\local\\anaconda3\\lib\\site-packages (from mne) (23.0)\n",
      "Requirement already satisfied: jinja2 in c:\\users\\bu23957\\appdata\\local\\anaconda3\\lib\\site-packages (from mne) (3.1.2)\n",
      "Collecting lazy-loader>=0.3 (from mne)\n",
      "  Obtaining dependency information for lazy-loader>=0.3 from https://files.pythonhosted.org/packages/83/60/d497a310bde3f01cb805196ac61b7ad6dc5dcf8dce66634dc34364b20b4f/lazy_loader-0.4-py3-none-any.whl.metadata\n",
      "  Downloading lazy_loader-0.4-py3-none-any.whl.metadata (7.6 kB)\n",
      "Requirement already satisfied: contourpy>=1.0.1 in c:\\users\\bu23957\\appdata\\local\\anaconda3\\lib\\site-packages (from matplotlib>=3.5.0->mne) (1.0.5)\n",
      "Requirement already satisfied: cycler>=0.10 in c:\\users\\bu23957\\appdata\\local\\anaconda3\\lib\\site-packages (from matplotlib>=3.5.0->mne) (0.11.0)\n",
      "Requirement already satisfied: fonttools>=4.22.0 in c:\\users\\bu23957\\appdata\\local\\anaconda3\\lib\\site-packages (from matplotlib>=3.5.0->mne) (4.25.0)\n",
      "Requirement already satisfied: kiwisolver>=1.0.1 in c:\\users\\bu23957\\appdata\\local\\anaconda3\\lib\\site-packages (from matplotlib>=3.5.0->mne) (1.4.4)\n",
      "Requirement already satisfied: pillow>=6.2.0 in c:\\users\\bu23957\\appdata\\local\\anaconda3\\lib\\site-packages (from matplotlib>=3.5.0->mne) (9.4.0)\n",
      "Requirement already satisfied: pyparsing>=2.3.1 in c:\\users\\bu23957\\appdata\\local\\anaconda3\\lib\\site-packages (from matplotlib>=3.5.0->mne) (3.0.9)\n",
      "Requirement already satisfied: python-dateutil>=2.7 in c:\\users\\bu23957\\appdata\\local\\anaconda3\\lib\\site-packages (from matplotlib>=3.5.0->mne) (2.8.2)\n",
      "Requirement already satisfied: platformdirs>=2.5.0 in c:\\users\\bu23957\\appdata\\local\\anaconda3\\lib\\site-packages (from pooch>=1.5->mne) (2.5.2)\n",
      "Requirement already satisfied: requests>=2.19.0 in c:\\users\\bu23957\\appdata\\local\\anaconda3\\lib\\site-packages (from pooch>=1.5->mne) (2.31.0)\n",
      "Requirement already satisfied: MarkupSafe>=2.0 in c:\\users\\bu23957\\appdata\\local\\anaconda3\\lib\\site-packages (from jinja2->mne) (2.1.1)\n",
      "Requirement already satisfied: colorama in c:\\users\\bu23957\\appdata\\local\\anaconda3\\lib\\site-packages (from tqdm->mne) (0.4.6)\n",
      "Requirement already satisfied: six>=1.5 in c:\\users\\bu23957\\appdata\\local\\anaconda3\\lib\\site-packages (from python-dateutil>=2.7->matplotlib>=3.5.0->mne) (1.16.0)\n",
      "Requirement already satisfied: charset-normalizer<4,>=2 in c:\\users\\bu23957\\appdata\\local\\anaconda3\\lib\\site-packages (from requests>=2.19.0->pooch>=1.5->mne) (2.0.4)\n",
      "Requirement already satisfied: idna<4,>=2.5 in c:\\users\\bu23957\\appdata\\local\\anaconda3\\lib\\site-packages (from requests>=2.19.0->pooch>=1.5->mne) (3.4)\n",
      "Requirement already satisfied: urllib3<3,>=1.21.1 in c:\\users\\bu23957\\appdata\\local\\anaconda3\\lib\\site-packages (from requests>=2.19.0->pooch>=1.5->mne) (1.26.16)\n",
      "Requirement already satisfied: certifi>=2017.4.17 in c:\\users\\bu23957\\appdata\\local\\anaconda3\\lib\\site-packages (from requests>=2.19.0->pooch>=1.5->mne) (2023.7.22)\n",
      "Downloading mne-1.6.1-py3-none-any.whl (8.3 MB)\n",
      "   ---------------------------------------- 0.0/8.3 MB ? eta -:--:--\n",
      "   ---- ----------------------------------- 0.8/8.3 MB 17.4 MB/s eta 0:00:01\n",
      "   ----- ---------------------------------- 1.0/8.3 MB 16.4 MB/s eta 0:00:01\n",
      "   -------- ------------------------------- 1.7/8.3 MB 12.0 MB/s eta 0:00:01\n",
      "   ---------- ----------------------------- 2.1/8.3 MB 12.1 MB/s eta 0:00:01\n",
      "   ------------ --------------------------- 2.7/8.3 MB 12.1 MB/s eta 0:00:01\n",
      "   --------------- ------------------------ 3.1/8.3 MB 12.5 MB/s eta 0:00:01\n",
      "   --------------- ------------------------ 3.1/8.3 MB 12.5 MB/s eta 0:00:01\n",
      "   --------------- ------------------------ 3.1/8.3 MB 12.5 MB/s eta 0:00:01\n",
      "   --------------- ------------------------ 3.1/8.3 MB 12.5 MB/s eta 0:00:01\n",
      "   --------------- ------------------------ 3.3/8.3 MB 7.4 MB/s eta 0:00:01\n",
      "   -------------------- ------------------- 4.2/8.3 MB 8.6 MB/s eta 0:00:01\n",
      "   -------------------- ------------------- 4.2/8.3 MB 8.6 MB/s eta 0:00:01\n",
      "   -------------------- ------------------- 4.2/8.3 MB 8.6 MB/s eta 0:00:01\n",
      "   -------------------- ------------------- 4.2/8.3 MB 8.6 MB/s eta 0:00:01\n",
      "   -------------------- ------------------- 4.2/8.3 MB 8.6 MB/s eta 0:00:01\n",
      "   -------------------- ------------------- 4.2/8.3 MB 8.6 MB/s eta 0:00:01\n",
      "   -------------------- ------------------- 4.2/8.3 MB 8.6 MB/s eta 0:00:01\n",
      "   -------------------- ------------------- 4.2/8.3 MB 8.6 MB/s eta 0:00:01\n",
      "   -------------------- ------------------- 4.2/8.3 MB 8.6 MB/s eta 0:00:01\n",
      "   -------------------- ------------------- 4.2/8.3 MB 8.6 MB/s eta 0:00:01\n",
      "   -------------------- ------------------- 4.2/8.3 MB 8.6 MB/s eta 0:00:01\n",
      "   -------------------- ------------------- 4.2/8.3 MB 8.6 MB/s eta 0:00:01\n",
      "   -------------------- ------------------- 4.2/8.3 MB 8.6 MB/s eta 0:00:01\n",
      "   -------------------- ------------------- 4.2/8.3 MB 8.6 MB/s eta 0:00:01\n",
      "   -------------------- ------------------- 4.2/8.3 MB 8.6 MB/s eta 0:00:01\n",
      "   -------------------- ------------------- 4.2/8.3 MB 8.6 MB/s eta 0:00:01\n",
      "   -------------------- ------------------- 4.2/8.3 MB 8.6 MB/s eta 0:00:01\n",
      "   -------------------- ------------------- 4.2/8.3 MB 8.6 MB/s eta 0:00:01\n",
      "   -------------------- ------------------- 4.2/8.3 MB 8.6 MB/s eta 0:00:01\n",
      "   -------------------- ------------------- 4.2/8.3 MB 8.6 MB/s eta 0:00:01\n",
      "   -------------------- ------------------- 4.2/8.3 MB 8.6 MB/s eta 0:00:01\n",
      "   -------------------- ------------------- 4.2/8.3 MB 8.6 MB/s eta 0:00:01\n",
      "   -------------------- ------------------- 4.2/8.3 MB 8.6 MB/s eta 0:00:01\n",
      "   -------------------- ------------------- 4.2/8.3 MB 8.6 MB/s eta 0:00:01\n",
      "   -------------------- ------------------- 4.2/8.3 MB 8.6 MB/s eta 0:00:01\n",
      "   -------------------- ------------------- 4.2/8.3 MB 8.6 MB/s eta 0:00:01\n",
      "   ----------------------- ---------------- 5.0/8.3 MB 2.9 MB/s eta 0:00:02\n",
      "   ------------------------- -------------- 5.2/8.3 MB 3.0 MB/s eta 0:00:02\n",
      "   ------------------------- -------------- 5.3/8.3 MB 2.9 MB/s eta 0:00:02\n",
      "   ------------------------------ --------- 6.3/8.3 MB 3.4 MB/s eta 0:00:01\n",
      "   ------------------------------ --------- 6.3/8.3 MB 3.4 MB/s eta 0:00:01\n",
      "   ----------------------------------- ---- 7.3/8.3 MB 3.7 MB/s eta 0:00:01\n",
      "   ----------------------------------- ---- 7.3/8.3 MB 3.7 MB/s eta 0:00:01\n",
      "   ----------------------------------- ---- 7.3/8.3 MB 3.7 MB/s eta 0:00:01\n",
      "   ----------------------------------- ---- 7.4/8.3 MB 3.5 MB/s eta 0:00:01\n",
      "   ---------------------------------------  8.3/8.3 MB 3.9 MB/s eta 0:00:01\n",
      "   ---------------------------------------- 8.3/8.3 MB 3.8 MB/s eta 0:00:00\n",
      "Downloading lazy_loader-0.4-py3-none-any.whl (12 kB)\n",
      "Downloading pooch-1.8.1-py3-none-any.whl (62 kB)\n",
      "   ---------------------------------------- 0.0/63.0 kB ? eta -:--:--\n",
      "   ---------------------------------------- 63.0/63.0 kB 3.5 MB/s eta 0:00:00\n",
      "Installing collected packages: lazy-loader, pooch, mne\n",
      "  Attempting uninstall: lazy-loader\n",
      "    Found existing installation: lazy_loader 0.2\n",
      "    Uninstalling lazy_loader-0.2:\n",
      "      Successfully uninstalled lazy_loader-0.2\n",
      "  Attempting uninstall: pooch\n",
      "    Found existing installation: pooch 1.4.0\n",
      "    Uninstalling pooch-1.4.0:\n",
      "      Successfully uninstalled pooch-1.4.0\n",
      "Successfully installed lazy-loader-0.4 mne-1.6.1 pooch-1.8.1\n"
     ]
    },
    {
     "name": "stderr",
     "output_type": "stream",
     "text": [
      "WARNING: There was an error checking the latest version of pip.\n"
     ]
    }
   ],
   "source": [
    "!pip install mne"
   ]
  },
  {
   "cell_type": "code",
   "execution_count": 4,
   "id": "9f2b863d",
   "metadata": {},
   "outputs": [
    {
     "name": "stdout",
     "output_type": "stream",
     "text": [
      "Extracting EDF parameters from C:\\Users\\bu23957\\Downloads\\102_1.edf...\n",
      "EDF file detected\n",
      "Setting channel info structure...\n",
      "Creating raw.info structure...\n",
      "Reading 0 ... 12316999  =      0.000 ... 24633.998 secs...\n"
     ]
    },
    {
     "name": "stderr",
     "output_type": "stream",
     "text": [
      "C:\\Users\\bu23957\\AppData\\Local\\Temp\\ipykernel_5632\\2121609029.py:5: RuntimeWarning: Omitted 16 annotation(s) that were outside data range.\n",
      "  raw = mne.io.read_raw_edf(eeg_file_path, preload=True)\n",
      "C:\\Users\\bu23957\\AppData\\Local\\Temp\\ipykernel_5632\\2121609029.py:5: RuntimeWarning: Limited 1 annotation(s) that were expanding outside the data range.\n",
      "  raw = mne.io.read_raw_edf(eeg_file_path, preload=True)\n"
     ]
    },
    {
     "name": "stdout",
     "output_type": "stream",
     "text": [
      "Using matplotlib as 2D backend.\n"
     ]
    },
    {
     "data": {
      "image/png": "[encoded data removed]",
      "text/plain": [
       "<MNEBrowseFigure size 800x800 with 4 Axes>"
      ]
     },
     "metadata": {},
     "output_type": "display_data"
    },
    {
     "data": {
      "image/png": "[encoded data removed]",
      "text/plain": [
       "<MNEBrowseFigure size 800x800 with 4 Axes>"
      ]
     },
     "execution_count": 4,
     "metadata": {},
     "output_type": "execute_result"
    }
   ],
   "source": [
    "import mne\n",
    "\n",
    "# Load the EEG file\n",
    "eeg_file_path = '102_1.edf'  # Example file path\n",
    "raw = mne.io.read_raw_edf(eeg_file_path, preload=True)\n",
    "\n",
    "# Plot a segment of the EEG data\n",
    "raw.plot(duration=5, start=5, scalings='auto', n_channels=5)"
   ]
  },
  {
   "cell_type": "code",
   "execution_count": 5,
   "id": "742e4919",
   "metadata": {},
   "outputs": [
    {
     "name": "stdout",
     "output_type": "stream",
     "text": [
      "Filtering raw data in 1 contiguous segment\n",
      "Setting up band-pass filter from 1 - 40 Hz\n",
      "\n",
      "FIR filter parameters\n",
      "---------------------\n",
      "Designing a one-pass, zero-phase, non-causal bandpass filter:\n",
      "- Windowed time-domain design (firwin) method\n",
      "- Hamming window with 0.0194 passband ripple and 53 dB stopband attenuation\n",
      "- Lower passband edge: 1.00\n",
      "- Lower transition bandwidth: 1.00 Hz (-6 dB cutoff frequency: 0.50 Hz)\n",
      "- Upper passband edge: 40.00 Hz\n",
      "- Upper transition bandwidth: 10.00 Hz (-6 dB cutoff frequency: 45.00 Hz)\n",
      "- Filter length: 1651 samples (3.302 s)\n",
      "\n"
     ]
    },
    {
     "name": "stderr",
     "output_type": "stream",
     "text": [
      "[Parallel(n_jobs=1)]: Using backend SequentialBackend with 1 concurrent workers.\n",
      "[Parallel(n_jobs=1)]: Done   1 out of   1 | elapsed:    0.2s remaining:    0.0s\n",
      "[Parallel(n_jobs=1)]: Done   2 out of   2 | elapsed:    0.6s remaining:    0.0s\n",
      "[Parallel(n_jobs=1)]: Done   3 out of   3 | elapsed:    1.0s remaining:    0.0s\n",
      "[Parallel(n_jobs=1)]: Done   4 out of   4 | elapsed:    1.3s remaining:    0.0s\n",
      "[Parallel(n_jobs=1)]: Done  15 out of  15 | elapsed:    5.1s finished\n"
     ]
    },
    {
     "name": "stdout",
     "output_type": "stream",
     "text": [
      "Filtering raw data in 1 contiguous segment\n",
      "Setting up band-stop filter from 49 - 51 Hz\n",
      "\n",
      "FIR filter parameters\n",
      "---------------------\n",
      "Designing a one-pass, zero-phase, non-causal bandstop filter:\n",
      "- Windowed time-domain design (firwin) method\n",
      "- Hamming window with 0.0194 passband ripple and 53 dB stopband attenuation\n",
      "- Lower passband edge: 49.38\n",
      "- Lower transition bandwidth: 0.50 Hz (-6 dB cutoff frequency: 49.12 Hz)\n",
      "- Upper passband edge: 50.62 Hz\n",
      "- Upper transition bandwidth: 0.50 Hz (-6 dB cutoff frequency: 50.88 Hz)\n",
      "- Filter length: 3301 samples (6.602 s)\n",
      "\n"
     ]
    },
    {
     "name": "stderr",
     "output_type": "stream",
     "text": [
      "[Parallel(n_jobs=1)]: Using backend SequentialBackend with 1 concurrent workers.\n",
      "[Parallel(n_jobs=1)]: Done   1 out of   1 | elapsed:    0.3s remaining:    0.0s\n",
      "[Parallel(n_jobs=1)]: Done   2 out of   2 | elapsed:    0.7s remaining:    0.0s\n",
      "[Parallel(n_jobs=1)]: Done   3 out of   3 | elapsed:    1.0s remaining:    0.0s\n",
      "[Parallel(n_jobs=1)]: Done   4 out of   4 | elapsed:    1.4s remaining:    0.0s\n",
      "[Parallel(n_jobs=1)]: Done  15 out of  15 | elapsed:    5.1s finished\n"
     ]
    },
    {
     "name": "stdout",
     "output_type": "stream",
     "text": [
      "Fitting ICA to data using 15 channels (please be patient, this may take a while)\n"
     ]
    },
    {
     "ename": "ValueError",
     "evalue": "ica.n_components (20) cannot be greater than len(picks) (15)",
     "output_type": "error",
     "traceback": [
      "\u001b[1;31m---------------------------------------------------------------------------\u001b[0m",
      "\u001b[1;31mValueError\u001b[0m                                Traceback (most recent call last)",
      "Cell \u001b[1;32mIn[5], line 9\u001b[0m\n\u001b[0;32m      7\u001b[0m \u001b[38;5;66;03m# Prepare for ICA\u001b[39;00m\n\u001b[0;32m      8\u001b[0m ica \u001b[38;5;241m=\u001b[39m mne\u001b[38;5;241m.\u001b[39mpreprocessing\u001b[38;5;241m.\u001b[39mICA(n_components\u001b[38;5;241m=\u001b[39m\u001b[38;5;241m20\u001b[39m, random_state\u001b[38;5;241m=\u001b[39m\u001b[38;5;241m97\u001b[39m, max_iter\u001b[38;5;241m=\u001b[39m\u001b[38;5;241m800\u001b[39m)\n\u001b[1;32m----> 9\u001b[0m ica\u001b[38;5;241m.\u001b[39mfit(raw)\n",
      "File \u001b[1;32m<decorator-gen-273>:12\u001b[0m, in \u001b[0;36mfit\u001b[1;34m(self, inst, picks, start, stop, decim, reject, flat, tstep, reject_by_annotation, verbose)\u001b[0m\n",
      "File \u001b[1;32m~\\AppData\\Local\\anaconda3\\Lib\\site-packages\\mne\\preprocessing\\ica.py:722\u001b[0m, in \u001b[0;36mICA.fit\u001b[1;34m(self, inst, picks, start, stop, decim, reject, flat, tstep, reject_by_annotation, verbose)\u001b[0m\n\u001b[0;32m    720\u001b[0m \u001b[38;5;66;03m# n_components could be float 0 < x < 1, but that's okay here\u001b[39;00m\n\u001b[0;32m    721\u001b[0m \u001b[38;5;28;01mif\u001b[39;00m \u001b[38;5;28mself\u001b[39m\u001b[38;5;241m.\u001b[39mn_components \u001b[38;5;129;01mis\u001b[39;00m \u001b[38;5;129;01mnot\u001b[39;00m \u001b[38;5;28;01mNone\u001b[39;00m \u001b[38;5;129;01mand\u001b[39;00m \u001b[38;5;28mself\u001b[39m\u001b[38;5;241m.\u001b[39mn_components \u001b[38;5;241m>\u001b[39m \u001b[38;5;28mlen\u001b[39m(picks):\n\u001b[1;32m--> 722\u001b[0m     \u001b[38;5;28;01mraise\u001b[39;00m \u001b[38;5;167;01mValueError\u001b[39;00m(\n\u001b[0;32m    723\u001b[0m         \u001b[38;5;124mf\u001b[39m\u001b[38;5;124m\"\u001b[39m\u001b[38;5;124mica.n_components (\u001b[39m\u001b[38;5;132;01m{\u001b[39;00m\u001b[38;5;28mself\u001b[39m\u001b[38;5;241m.\u001b[39mn_components\u001b[38;5;132;01m}\u001b[39;00m\u001b[38;5;124m) cannot \u001b[39m\u001b[38;5;124m\"\u001b[39m\n\u001b[0;32m    724\u001b[0m         \u001b[38;5;124mf\u001b[39m\u001b[38;5;124m\"\u001b[39m\u001b[38;5;124mbe greater than len(picks) (\u001b[39m\u001b[38;5;132;01m{\u001b[39;00m\u001b[38;5;28mlen\u001b[39m(picks)\u001b[38;5;132;01m}\u001b[39;00m\u001b[38;5;124m)\u001b[39m\u001b[38;5;124m\"\u001b[39m\n\u001b[0;32m    725\u001b[0m     )\n\u001b[0;32m    727\u001b[0m \u001b[38;5;66;03m# filter out all the channels the raw wouldn't have initialized\u001b[39;00m\n\u001b[0;32m    728\u001b[0m \u001b[38;5;28mself\u001b[39m\u001b[38;5;241m.\u001b[39minfo \u001b[38;5;241m=\u001b[39m pick_info(inst\u001b[38;5;241m.\u001b[39minfo, picks)\n",
      "\u001b[1;31mValueError\u001b[0m: ica.n_components (20) cannot be greater than len(picks) (15)"
     ]
    }
   ],
   "source": [
    "# Bandpass filter\n",
    "raw.filter(l_freq=1.0, h_freq=40.0)\n",
    "\n",
    "# Notch filter to remove power line noise at 50 Hz (or 60 Hz depending on your location)\n",
    "raw.notch_filter(freqs=50)\n",
    "\n",
    "# Prepare for ICA\n",
    "ica = mne.preprocessing.ICA(n_components=20, random_state=97, max_iter=800)\n",
    "ica.fit(raw)"
   ]
  },
  {
   "cell_type": "code",
   "execution_count": 6,
   "id": "06e02f72",
   "metadata": {},
   "outputs": [
    {
     "name": "stdout",
     "output_type": "stream",
     "text": [
      "Not setting metadata\n",
      "821 matching events found\n",
      "No baseline correction applied\n",
      "0 projection items activated\n",
      "Using data from preloaded Raw for 821 events and 15001 original time points ...\n",
      "0 bad epochs dropped\n"
     ]
    }
   ],
   "source": [
    "events = mne.make_fixed_length_events(raw, duration=30)\n",
    "epochs = mne.Epochs(raw, events, tmin=0., tmax=30., baseline=None, preload=True)"
   ]
  },
  {
   "cell_type": "code",
   "execution_count": null,
   "id": "05bfe58b",
   "metadata": {},
   "outputs": [],
   "source": []
  }
 ],
 "metadata": {
  "kernelspec": {
   "display_name": "Python 3 (ipykernel)",
   "language": "python",
   "name": "python3"
  },
  "language_info": {
   "codemirror_mode": {
    "name": "ipython",
    "version": 3
   },
   "file_extension": ".py",
   "mimetype": "text/x-python",
   "name": "python",
   "nbconvert_exporter": "python",
   "pygments_lexer": "ipython3",
   "version": "3.11.4"
  }
 },
 "nbformat": 4,
 "nbformat_minor": 5
}
