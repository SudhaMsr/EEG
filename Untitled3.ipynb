{
 "cells": [
  {
   "cell_type": "code",
   "execution_count": 1,
   "id": "59cfda23",
   "metadata": {},
   "outputs": [],
   "source": [
    "import mne"
   ]
  },
  {
   "cell_type": "code",
   "execution_count": 2,
   "id": "54d24f86",
   "metadata": {},
   "outputs": [
    {
     "name": "stdout",
     "output_type": "stream",
     "text": [
      "Requirement already satisfied: pyEDFlib in c:\\users\\bu23957\\appdata\\local\\anaconda3\\lib\\site-packages (0.1.37)\n",
      "Requirement already satisfied: numpy>=1.9.1 in c:\\users\\bu23957\\appdata\\local\\anaconda3\\lib\\site-packages (from pyEDFlib) (1.26.4)\n"
     ]
    }
   ],
   "source": [
    "!pip install pyEDFlib"
   ]
  },
  {
   "cell_type": "markdown",
   "id": "146eabbd",
   "metadata": {},
   "source": [
    "###  Choose Data for Analysis and Data Preprocessing"
   ]
  },
  {
   "cell_type": "code",
   "execution_count": 3,
   "id": "091d8b5c",
   "metadata": {},
   "outputs": [
    {
     "name": "stdout",
     "output_type": "stream",
     "text": [
      "Extracting EDF parameters from C:\\Users\\bu23957\\Downloads\\sleep-cassette\\SC4001E0-PSG.edf...\n",
      "EDF file detected\n",
      "Setting channel info structure...\n",
      "Creating raw.info structure...\n",
      "<RawEDF | SC4001E0-PSG.edf, 7 x 7950000 (79500.0 s), ~11 kB, data not loaded>\n",
      "<Annotations | 154 segments: Sleep stage 1 (24), Sleep stage 2 (40), Sleep ...>\n"
     ]
    }
   ],
   "source": [
    "import mne\n",
    "\n",
    "# Function to read PSG and hypnogram files\n",
    "def read_data(psg_file, hyp_file):\n",
    "    # Read PSG file\n",
    "    raw = mne.io.read_raw_edf(psg_file)\n",
    "    \n",
    "    # Read hypnogram file\n",
    "    annotations = mne.read_annotations(hyp_file)\n",
    "    \n",
    "    return raw, annotations\n",
    "\n",
    "# PSG and hypnogram files for analysis (replace with your file paths)\n",
    "psg_file = 'sleep-cassette/SC4001E0-PSG.edf'\n",
    "hyp_file = 'sleep-cassette/SC4001EC-Hypnogram.edf'\n",
    "\n",
    "# Read data\n",
    "raw, annotations = read_data(psg_file, hyp_file)\n",
    "\n",
    "# Print basic info about the data\n",
    "print(raw)\n",
    "print(annotations)\n",
    "\n"
   ]
  },
  {
   "cell_type": "markdown",
   "id": "b343ea52",
   "metadata": {},
   "source": [
    "### preprocessing"
   ]
  },
  {
   "cell_type": "code",
   "execution_count": 5,
   "id": "e4aed5c6",
   "metadata": {},
   "outputs": [
    {
     "ename": "RuntimeError",
     "evalue": "By default, MNE does not load data into main memory to conserve resources. inst.filter requires raw data to be loaded. Use preload=True (or string) in the constructor or raw.load_data().",
     "output_type": "error",
     "traceback": [
      "\u001b[1;31m---------------------------------------------------------------------------\u001b[0m",
      "\u001b[1;31mRuntimeError\u001b[0m                              Traceback (most recent call last)",
      "Cell \u001b[1;32mIn[5], line 23\u001b[0m\n\u001b[0;32m     20\u001b[0m     \u001b[38;5;28;01mreturn\u001b[39;00m epochs\n\u001b[0;32m     22\u001b[0m \u001b[38;5;66;03m# Preprocess data\u001b[39;00m\n\u001b[1;32m---> 23\u001b[0m epochs \u001b[38;5;241m=\u001b[39m preprocess_data(raw, annotations)\n\u001b[0;32m     25\u001b[0m \u001b[38;5;66;03m# Check the information about the epochs\u001b[39;00m\n\u001b[0;32m     26\u001b[0m \u001b[38;5;28mprint\u001b[39m(epochs)\n",
      "Cell \u001b[1;32mIn[5], line 6\u001b[0m, in \u001b[0;36mpreprocess_data\u001b[1;34m(raw, annotations, epoch_length)\u001b[0m\n\u001b[0;32m      2\u001b[0m \u001b[38;5;28;01mdef\u001b[39;00m \u001b[38;5;21mpreprocess_data\u001b[39m(raw, annotations, epoch_length\u001b[38;5;241m=\u001b[39m\u001b[38;5;241m30\u001b[39m):\n\u001b[0;32m      3\u001b[0m     \u001b[38;5;66;03m# Apply additional preprocessing steps as needed\u001b[39;00m\n\u001b[0;32m      4\u001b[0m     \u001b[38;5;66;03m# For example, filtering, resampling, and epoch segmentation\u001b[39;00m\n\u001b[0;32m      5\u001b[0m     \u001b[38;5;66;03m# Filter data between 0.5 and 40 Hz\u001b[39;00m\n\u001b[1;32m----> 6\u001b[0m     raw\u001b[38;5;241m.\u001b[39mfilter(\u001b[38;5;241m0.5\u001b[39m, \u001b[38;5;241m40\u001b[39m, fir_design\u001b[38;5;241m=\u001b[39m\u001b[38;5;124m'\u001b[39m\u001b[38;5;124mfirwin\u001b[39m\u001b[38;5;124m'\u001b[39m)\n\u001b[0;32m      8\u001b[0m     \u001b[38;5;66;03m# Resample the data to 100 Hz\u001b[39;00m\n\u001b[0;32m      9\u001b[0m     raw\u001b[38;5;241m.\u001b[39mresample(\u001b[38;5;241m100\u001b[39m)\n",
      "File \u001b[1;32m~\\AppData\\Local\\anaconda3\\Lib\\site-packages\\mne\\io\\base.py:1128\u001b[0m, in \u001b[0;36mBaseRaw.filter\u001b[1;34m(self, l_freq, h_freq, picks, filter_length, l_trans_bandwidth, h_trans_bandwidth, n_jobs, method, iir_params, phase, fir_window, fir_design, skip_by_annotation, pad, verbose)\u001b[0m\n\u001b[0;32m   1109\u001b[0m \u001b[38;5;129m@copy_doc\u001b[39m(FilterMixin\u001b[38;5;241m.\u001b[39mfilter)\n\u001b[0;32m   1110\u001b[0m \u001b[38;5;28;01mdef\u001b[39;00m \u001b[38;5;21mfilter\u001b[39m(\n\u001b[0;32m   1111\u001b[0m     \u001b[38;5;28mself\u001b[39m,\n\u001b[1;32m   (...)\u001b[0m\n\u001b[0;32m   1126\u001b[0m     verbose\u001b[38;5;241m=\u001b[39m\u001b[38;5;28;01mNone\u001b[39;00m,\n\u001b[0;32m   1127\u001b[0m ):  \u001b[38;5;66;03m# noqa: D102\u001b[39;00m\n\u001b[1;32m-> 1128\u001b[0m     \u001b[38;5;28;01mreturn\u001b[39;00m \u001b[38;5;28msuper\u001b[39m()\u001b[38;5;241m.\u001b[39mfilter(\n\u001b[0;32m   1129\u001b[0m         l_freq,\n\u001b[0;32m   1130\u001b[0m         h_freq,\n\u001b[0;32m   1131\u001b[0m         picks,\n\u001b[0;32m   1132\u001b[0m         filter_length,\n\u001b[0;32m   1133\u001b[0m         l_trans_bandwidth,\n\u001b[0;32m   1134\u001b[0m         h_trans_bandwidth,\n\u001b[0;32m   1135\u001b[0m         n_jobs\u001b[38;5;241m=\u001b[39mn_jobs,\n\u001b[0;32m   1136\u001b[0m         method\u001b[38;5;241m=\u001b[39mmethod,\n\u001b[0;32m   1137\u001b[0m         iir_params\u001b[38;5;241m=\u001b[39miir_params,\n\u001b[0;32m   1138\u001b[0m         phase\u001b[38;5;241m=\u001b[39mphase,\n\u001b[0;32m   1139\u001b[0m         fir_window\u001b[38;5;241m=\u001b[39mfir_window,\n\u001b[0;32m   1140\u001b[0m         fir_design\u001b[38;5;241m=\u001b[39mfir_design,\n\u001b[0;32m   1141\u001b[0m         skip_by_annotation\u001b[38;5;241m=\u001b[39mskip_by_annotation,\n\u001b[0;32m   1142\u001b[0m         pad\u001b[38;5;241m=\u001b[39mpad,\n\u001b[0;32m   1143\u001b[0m         verbose\u001b[38;5;241m=\u001b[39mverbose,\n\u001b[0;32m   1144\u001b[0m     )\n",
      "File \u001b[1;32m<decorator-gen-53>:12\u001b[0m, in \u001b[0;36mfilter\u001b[1;34m(self, l_freq, h_freq, picks, filter_length, l_trans_bandwidth, h_trans_bandwidth, n_jobs, method, iir_params, phase, fir_window, fir_design, skip_by_annotation, pad, verbose)\u001b[0m\n",
      "File \u001b[1;32m~\\AppData\\Local\\anaconda3\\Lib\\site-packages\\mne\\filter.py:2590\u001b[0m, in \u001b[0;36mFilterMixin.filter\u001b[1;34m(self, l_freq, h_freq, picks, filter_length, l_trans_bandwidth, h_trans_bandwidth, n_jobs, method, iir_params, phase, fir_window, fir_design, skip_by_annotation, pad, verbose)\u001b[0m\n\u001b[0;32m   2587\u001b[0m \u001b[38;5;28;01mfrom\u001b[39;00m \u001b[38;5;21;01m.\u001b[39;00m\u001b[38;5;21;01mannotations\u001b[39;00m \u001b[38;5;28;01mimport\u001b[39;00m _annotations_starts_stops\n\u001b[0;32m   2588\u001b[0m \u001b[38;5;28;01mfrom\u001b[39;00m \u001b[38;5;21;01m.\u001b[39;00m\u001b[38;5;21;01mio\u001b[39;00m \u001b[38;5;28;01mimport\u001b[39;00m BaseRaw\n\u001b[1;32m-> 2590\u001b[0m _check_preload(\u001b[38;5;28mself\u001b[39m, \u001b[38;5;124m\"\u001b[39m\u001b[38;5;124minst.filter\u001b[39m\u001b[38;5;124m\"\u001b[39m)\n\u001b[0;32m   2591\u001b[0m \u001b[38;5;28;01mif\u001b[39;00m pad \u001b[38;5;129;01mis\u001b[39;00m \u001b[38;5;28;01mNone\u001b[39;00m \u001b[38;5;129;01mand\u001b[39;00m method \u001b[38;5;241m!=\u001b[39m \u001b[38;5;124m\"\u001b[39m\u001b[38;5;124miir\u001b[39m\u001b[38;5;124m\"\u001b[39m:\n\u001b[0;32m   2592\u001b[0m     pad \u001b[38;5;241m=\u001b[39m \u001b[38;5;124m\"\u001b[39m\u001b[38;5;124medge\u001b[39m\u001b[38;5;124m\"\u001b[39m\n",
      "File \u001b[1;32m~\\AppData\\Local\\anaconda3\\Lib\\site-packages\\mne\\utils\\check.py:307\u001b[0m, in \u001b[0;36m_check_preload\u001b[1;34m(inst, msg)\u001b[0m\n\u001b[0;32m    305\u001b[0m name \u001b[38;5;241m=\u001b[39m \u001b[38;5;124m\"\u001b[39m\u001b[38;5;124mepochs\u001b[39m\u001b[38;5;124m\"\u001b[39m \u001b[38;5;28;01mif\u001b[39;00m \u001b[38;5;28misinstance\u001b[39m(inst, BaseEpochs) \u001b[38;5;28;01melse\u001b[39;00m \u001b[38;5;124m\"\u001b[39m\u001b[38;5;124mraw\u001b[39m\u001b[38;5;124m\"\u001b[39m\n\u001b[0;32m    306\u001b[0m \u001b[38;5;28;01mif\u001b[39;00m \u001b[38;5;129;01mnot\u001b[39;00m inst\u001b[38;5;241m.\u001b[39mpreload:\n\u001b[1;32m--> 307\u001b[0m     \u001b[38;5;28;01mraise\u001b[39;00m \u001b[38;5;167;01mRuntimeError\u001b[39;00m(\n\u001b[0;32m    308\u001b[0m         \u001b[38;5;124m\"\u001b[39m\u001b[38;5;124mBy default, MNE does not load data into main memory to \u001b[39m\u001b[38;5;124m\"\u001b[39m\n\u001b[0;32m    309\u001b[0m         \u001b[38;5;124m\"\u001b[39m\u001b[38;5;124mconserve resources. \u001b[39m\u001b[38;5;124m\"\u001b[39m \u001b[38;5;241m+\u001b[39m msg \u001b[38;5;241m+\u001b[39m \u001b[38;5;124m\"\u001b[39m\u001b[38;5;124m requires \u001b[39m\u001b[38;5;132;01m%s\u001b[39;00m\u001b[38;5;124m data to be \u001b[39m\u001b[38;5;124m\"\u001b[39m\n\u001b[0;32m    310\u001b[0m         \u001b[38;5;124m\"\u001b[39m\u001b[38;5;124mloaded. Use preload=True (or string) in the constructor or \u001b[39m\u001b[38;5;124m\"\u001b[39m\n\u001b[0;32m    311\u001b[0m         \u001b[38;5;124m\"\u001b[39m\u001b[38;5;132;01m%s\u001b[39;00m\u001b[38;5;124m.load_data().\u001b[39m\u001b[38;5;124m\"\u001b[39m \u001b[38;5;241m%\u001b[39m (name, name)\n\u001b[0;32m    312\u001b[0m     )\n\u001b[0;32m    313\u001b[0m \u001b[38;5;28;01mif\u001b[39;00m name \u001b[38;5;241m==\u001b[39m \u001b[38;5;124m\"\u001b[39m\u001b[38;5;124mepochs\u001b[39m\u001b[38;5;124m\"\u001b[39m:\n\u001b[0;32m    314\u001b[0m     inst\u001b[38;5;241m.\u001b[39m_handle_empty(\u001b[38;5;124m\"\u001b[39m\u001b[38;5;124mraise\u001b[39m\u001b[38;5;124m\"\u001b[39m, msg)\n",
      "\u001b[1;31mRuntimeError\u001b[0m: By default, MNE does not load data into main memory to conserve resources. inst.filter requires raw data to be loaded. Use preload=True (or string) in the constructor or raw.load_data()."
     ]
    }
   ],
   "source": [
    "# Define function for data preprocessing\n",
    "def preprocess_data(raw, annotations, epoch_length=30):\n",
    "    # Apply additional preprocessing steps as needed\n",
    "    # For example, filtering, resampling, and epoch segmentation\n",
    "    # Filter data between 0.5 and 40 Hz\n",
    "    raw.filter(0.5, 40, fir_design='firwin')\n",
    "    \n",
    "    # Resample the data to 100 Hz\n",
    "    raw.resample(100)\n",
    "    \n",
    "    # Segment data into epochs using annotations\n",
    "    events, _ = mne.events_from_annotations(raw, event_id={'Sleep stage W': 0,\n",
    "                                                            'Sleep stage 1': 1,\n",
    "                                                            'Sleep stage 2': 2,\n",
    "                                                            'Sleep stage 3': 3,\n",
    "                                                            'Sleep stage 4': 4,\n",
    "                                                            'Sleep stage R': 5})\n",
    "    epochs = mne.Epochs(raw, events, event_id=None, tmin=0, tmax=epoch_length, baseline=None, preload=True)\n",
    "    \n",
    "    return epochs\n",
    "\n",
    "# Preprocess data\n",
    "epochs = preprocess_data(raw, annotations)\n",
    "\n",
    "# Check the information about the epochs\n",
    "print(epochs)"
   ]
  },
  {
   "cell_type": "code",
   "execution_count": null,
   "id": "a41f2521",
   "metadata": {},
   "outputs": [],
   "source": []
  },
  {
   "cell_type": "code",
   "execution_count": null,
   "id": "d8e44151",
   "metadata": {},
   "outputs": [],
   "source": []
  },
  {
   "cell_type": "code",
   "execution_count": null,
   "id": "737becdf",
   "metadata": {},
   "outputs": [],
   "source": []
  },
  {
   "cell_type": "code",
   "execution_count": null,
   "id": "58cac91a",
   "metadata": {},
   "outputs": [],
   "source": []
  },
  {
   "cell_type": "code",
   "execution_count": null,
   "id": "54bac556",
   "metadata": {},
   "outputs": [],
   "source": []
  },
  {
   "cell_type": "code",
   "execution_count": null,
   "id": "9f344b9b",
   "metadata": {},
   "outputs": [],
   "source": []
  }
 ],
 "metadata": {
  "kernelspec": {
   "display_name": "Python 3 (ipykernel)",
   "language": "python",
   "name": "python3"
  },
  "language_info": {
   "codemirror_mode": {
    "name": "ipython",
    "version": 3
   },
   "file_extension": ".py",
   "mimetype": "text/x-python",
   "name": "python",
   "nbconvert_exporter": "python",
   "pygments_lexer": "ipython3",
   "version": "3.11.5"
  }
 },
 "nbformat": 4,
 "nbformat_minor": 5
}
